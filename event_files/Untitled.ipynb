{
 "cells": [
  {
   "cell_type": "code",
   "execution_count": 1,
   "id": "4f91da63-b7e1-478d-abd6-ba4185a59339",
   "metadata": {},
   "outputs": [],
   "source": [
    "from lxml import etree as ET\n"
   ]
  },
  {
   "cell_type": "code",
   "execution_count": 9,
   "id": "8af4f2df-6782-4fe4-917a-25f64c519887",
   "metadata": {},
   "outputs": [
    {
     "data": {
      "text/plain": [
       "10000"
      ]
     },
     "execution_count": 9,
     "metadata": {},
     "output_type": "execute_result"
    }
   ],
   "source": [
    "tree = ET.parse('ttZ_run01.lhe')\n",
    "root = tree.getroot()\n",
    "tags = [r.tag for r in root]\n",
    "tags.count('event')"
   ]
  },
  {
   "cell_type": "code",
   "execution_count": null,
   "id": "5a1c6199-b3e1-4e52-8c81-b7cf3a5027e9",
   "metadata": {},
   "outputs": [],
   "source": []
  }
 ],
 "metadata": {
  "kernelspec": {
   "display_name": "Python 3 (ipykernel)",
   "language": "python",
   "name": "python3"
  },
  "language_info": {
   "codemirror_mode": {
    "name": "ipython",
    "version": 3
   },
   "file_extension": ".py",
   "mimetype": "text/x-python",
   "name": "python",
   "nbconvert_exporter": "python",
   "pygments_lexer": "ipython3",
   "version": "3.9.7"
  }
 },
 "nbformat": 4,
 "nbformat_minor": 5
}
