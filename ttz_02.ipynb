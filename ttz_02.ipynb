{
 "cells": [
  {
   "cell_type": "markdown",
   "id": "ffd56c71-7fbc-4c15-a56e-72595c28be7e",
   "metadata": {},
   "source": [
    "## Generated new data set with systematics"
   ]
  },
  {
   "cell_type": "code",
   "execution_count": 1,
   "id": "bd378d12-61c9-4d72-a581-15d8c4d6c464",
   "metadata": {},
   "outputs": [],
   "source": [
    "from LHEImport.LHEImport import LHEImport as LHEI\n",
    "import numpy as np\n",
    "import pandas as pd\n",
    "import matplotlib.pyplot as plt\n",
    "plt.style.use([\"science\", \"grid\"])\n",
    "plt.rcParams.update({\"font.family\":\"serif\", \"font.size\":16, \"figure.figsize\":[20,10]})"
   ]
  },
  {
   "cell_type": "code",
   "execution_count": null,
   "id": "9cdb50b7-6157-486c-8fd1-b4d36fb0aa43",
   "metadata": {},
   "outputs": [],
   "source": [
    "## uncomment this cell to generate the hdf5 files.\n",
    "data = LHEI('event_files/lhe/ttZ_events_lhapdf_02.lhe')\n",
    "# data.toHDF5('event_files/hdf5/ttZ_events_02_test', 'particles_limited', limit_events=True)\n",
    "data.toHDF5('event_files/hdf5/ttZ_events_02', 'particles', limit_events=False)"
   ]
  },
  {
   "cell_type": "code",
   "execution_count": null,
   "id": "22525fbe-dade-454f-9072-d0034944343a",
   "metadata": {},
   "outputs": [],
   "source": [
    "# # generating a big list of all data, can then be imported into a pd.DataFrame\n",
    "# datalist = []\n",
    "# for i in range(0, len(Data['eventdata'])):\n",
    "#     event_particles = Data['eventdata'][i]['final_particles']\n",
    "#     for particle in event_particles:\n",
    "#         datalist.append(particle.__dict__)"
   ]
  },
  {
   "cell_type": "code",
   "execution_count": null,
   "id": "30334367-d32a-454f-b4f3-bbf27e4bb9dc",
   "metadata": {},
   "outputs": [],
   "source": [
    "# df = pd.DataFrame(datalist)"
   ]
  },
  {
   "cell_type": "code",
   "execution_count": null,
   "id": "e4479899-cefb-408d-89b2-7a543eba0588",
   "metadata": {},
   "outputs": [],
   "source": [
    "df = pd.read_hdf('event_files/hdf5/ttZ_events_02.h5', 'particles')\n",
    "df\n",
    "# df = pd.read_hdf('event_files/hdf5/ttZ_events_02.h5', 'limit_particles')"
   ]
  },
  {
   "cell_type": "markdown",
   "id": "db0430bd-2618-48fe-b8dc-dfbf4d3ae430",
   "metadata": {},
   "source": [
    "## Using scikit-hep/vector testing"
   ]
  },
  {
   "cell_type": "code",
   "execution_count": null,
   "id": "5978799f-660c-48d4-94af-1128259bafc8",
   "metadata": {
    "tags": []
   },
   "outputs": [],
   "source": [
    "import vector"
   ]
  },
  {
   "cell_type": "code",
   "execution_count": null,
   "id": "f2f924d0-6e39-464a-8191-b48d08fc246b",
   "metadata": {},
   "outputs": [],
   "source": [
    "df[(df['pdgid']!=21) & (df['barcode']==2)]"
   ]
  },
  {
   "cell_type": "code",
   "execution_count": null,
   "id": "9d931b5b-cbad-410e-a86b-8d094437972b",
   "metadata": {
    "tags": []
   },
   "outputs": [],
   "source": [
    "Zs = df.loc[df['pdgid'] ==23]\n",
    "ts = df.loc[df['pdgid'] ==6]\n",
    "tbars = df.loc[df['pdgid'] ==-6]"
   ]
  },
  {
   "cell_type": "code",
   "execution_count": null,
   "id": "41e836d1-b759-475d-8f0c-cdd994c8a605",
   "metadata": {},
   "outputs": [],
   "source": [
    "z_vecs=vector.arr({\n",
    "    'pt':Zs['pt'].values, \n",
    "    'phi':Zs['phi'].values, \n",
    "    'eta':Zs['eta'].values, \n",
    "    'e':Zs['energy'].values\n",
    "                })\n",
    "t_vecs=vector.arr({\n",
    "    'pt':ts['pt'].values, \n",
    "    'phi':ts['phi'].values, \n",
    "    'eta':ts['eta'].values, \n",
    "    'e':ts['energy'].values\n",
    "                })\n",
    "tbar_vecs=vector.arr({\n",
    "    'pt':tbars['pt'].values, \n",
    "    'phi':tbars['phi'].values, \n",
    "    'eta':tbars['eta'].values, \n",
    "    'e':tbars['energy'].values\n",
    "                })"
   ]
  },
  {
   "cell_type": "code",
   "execution_count": null,
   "id": "89ce39fb-7850-4d45-87d6-eabca87f9110",
   "metadata": {},
   "outputs": [],
   "source": [
    "# for particle, particle_string in zip([z_vecs, t_vecs, tbar_vecs], ['z', 't', 't~']):\n",
    "def single_fourvecplot(particle, particle_string):\n",
    "    fig, axes = plt.subplots(2,2)\n",
    "    for i, index, ax in zip(range(4), [\"rho\", \"phi\", \"eta\", \"t\"], axes.flatten()):\n",
    "        ax.hist(particle[index], bins = 50, histtype=\"step\")\n",
    "        if index == \"t\":\n",
    "            ax.title.set_text(f\"${particle_string}$ : Energy\")\n",
    "        elif index == \"rho\":\n",
    "            ax.title.set_text(f\"${particle_string}$ : $p_t$\")\n",
    "        else:\n",
    "            ax.title.set_text(f\"${particle_string}$ : $\\\\{index}$\")\n",
    "    plt.show()"
   ]
  },
  {
   "cell_type": "code",
   "execution_count": null,
   "id": "fcccf7bd-3cf3-41f7-9c12-83ee6bd4babf",
   "metadata": {},
   "outputs": [],
   "source": [
    "# fourvecplot(tbar_vecs, 'tbar')"
   ]
  },
  {
   "cell_type": "markdown",
   "id": "ab18f230-8bf8-48b4-9230-eeee3c01954f",
   "metadata": {},
   "source": [
    "## Plot of $\\rho$, $\\phi$, $\\eta$ and Energy for each particle."
   ]
  },
  {
   "cell_type": "code",
   "execution_count": null,
   "id": "b5aab25e-f4a5-45ac-9aca-a44784b17c58",
   "metadata": {},
   "outputs": [],
   "source": [
    "fig, axes = plt.subplots(2,2)\n",
    "for param, ax in zip([\"rho\", \"phi\", \"eta\",\"t\"], axes.flatten()):\n",
    "    for particle, particle_string in zip([z_vecs, t_vecs, tbar_vecs], [\"z\", \"t\", \"$\\\\bar{t}$\"]):\n",
    "        ax.hist(particle[param], histtype='step', label=f\"{particle_string}\", linewidth=2)\n",
    "        ax.legend(title=\"Particle\", loc=\"upper right\")\n",
    "        if param == 't':\n",
    "            ax.title.set_text(\"Energy\")\n",
    "        elif param == \"rho\":\n",
    "            ax.title.set_text(\"$p_t$\")\n",
    "        else:\n",
    "            ax.title.set_text(f'$\\\\{param}$')"
   ]
  },
  {
   "cell_type": "code",
   "execution_count": null,
   "id": "f8a79538-cea1-4b33-85f1-4a45eac74658",
   "metadata": {},
   "outputs": [],
   "source": [
    "'''\n",
    "- generate a subset that only has t,t~ and Z\n",
    "- for particle in dataset plot hist[param]\n",
    "'''\n",
    "df_sub = df[(df['pdgid']==23) | (df['pdgid'] ==-6) | (df['pdgid']==6)]\n",
    "df_sub"
   ]
  },
  {
   "cell_type": "code",
   "execution_count": null,
   "id": "7d9b814f-c1b3-4ef8-ae71-e45af384eb07",
   "metadata": {},
   "outputs": [],
   "source": [
    "df[df['pdgid']==6].iloc[0].pdgid_string"
   ]
  },
  {
   "cell_type": "code",
   "execution_count": null,
   "id": "46c090e7-bd28-4106-841c-c408bea22a32",
   "metadata": {},
   "outputs": [],
   "source": [
    "fig, axes = plt.subplots(2,2)\n",
    "for param, ax in zip([\"pt\", \"phi\", \"eta\", \"energy\"], axes.flatten()):\n",
    "    for num in [6,-6,23]:\n",
    "        particle_string = df[df['pdgid']==num].iloc[0].pdgid_latex\n",
    "        ax.hist(df[df['pdgid']==num][param], histtype='step',label=f\"{particle_string}\", linewidth=2)\n",
    "        ax.legend(title=\"Particle\", loc=\"upper right\")\n",
    "        "
   ]
  },
  {
   "cell_type": "code",
   "execution_count": null,
   "id": "e94432d4-5442-4c3f-bfe0-0b5559cb1d09",
   "metadata": {},
   "outputs": [],
   "source": []
  }
 ],
 "metadata": {
  "kernelspec": {
   "display_name": "Python 3 (ipykernel)",
   "language": "python",
   "name": "python3"
  },
  "language_info": {
   "codemirror_mode": {
    "name": "ipython",
    "version": 3
   },
   "file_extension": ".py",
   "mimetype": "text/x-python",
   "name": "python",
   "nbconvert_exporter": "python",
   "pygments_lexer": "ipython3",
   "version": "3.9.7"
  }
 },
 "nbformat": 4,
 "nbformat_minor": 5
}
