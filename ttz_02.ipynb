{
 "cells": [
  {
   "cell_type": "markdown",
   "id": "ffd56c71-7fbc-4c15-a56e-72595c28be7e",
   "metadata": {},
   "source": [
    "## Generated new data set with systematics"
   ]
  },
  {
   "cell_type": "code",
   "execution_count": 3,
   "id": "bd378d12-61c9-4d72-a581-15d8c4d6c464",
   "metadata": {},
   "outputs": [],
   "source": [
    "from LHEImport.LHEImport import LHEImport as LHEI\n",
    "from LHEImport.LHEImport2 import read_lhe\n",
    "import numpy as np\n",
    "import pandas as pd\n",
    "import matplotlib.pyplot as plt\n",
    "plt.style.use([\"science\", \"grid\", \"high-contrast\"])\n",
    "plt.rcParams.update({\"font.family\":\"serif\", \"font.size\":20, \"figure.figsize\":[12,8]})"
   ]
  },
  {
   "cell_type": "code",
   "execution_count": null,
   "id": "9cdb50b7-6157-486c-8fd1-b4d36fb0aa43",
   "metadata": {
    "tags": []
   },
   "outputs": [],
   "source": [
    "## uncomment this cell to generate the hdf5 files.\n",
    "data = LHEI('event_files/lhe/ttZ_events_lhapdf_02.lhe')\n",
    "data.toHDF5('event_files/hdf5/ttZ_events_02_data', 'particles_limited', limit_events=True)\n",
    "# data.toHDF5('event_files/hdf5/ttZ_events_02', 'particles', limit_events=False)"
   ]
  },
  {
   "cell_type": "code",
   "execution_count": null,
   "id": "22525fbe-dade-454f-9072-d0034944343a",
   "metadata": {},
   "outputs": [],
   "source": [
    "# # generating a big list of all data, can then be imported into a pd.DataFrame\n",
    "# datalist = []\n",
    "# for i in range(0, len(Data['eventdata'])):\n",
    "#     event_particles = Data['eventdata'][i]['final_particles']\n",
    "#     for particle in event_particles:\n",
    "#         datalist.append(particle.__dict__)"
   ]
  },
  {
   "cell_type": "code",
   "execution_count": null,
   "id": "30334367-d32a-454f-b4f3-bbf27e4bb9dc",
   "metadata": {},
   "outputs": [],
   "source": [
    "# df = pd.DataFrame(datalist)"
   ]
  },
  {
   "cell_type": "code",
   "execution_count": null,
   "id": "e4479899-cefb-408d-89b2-7a543eba0588",
   "metadata": {},
   "outputs": [],
   "source": [
    "df = pd.read_hdf('event_files/hdf5/ttZ_events_02.h5', 'particles_limited')\n",
    "df.set_index(['event_count', 'barcode'])\n",
    "# df = pd.read_hdf('event_files/hdf5/ttZ_events_02.h5', 'limit_particles')\n",
    "# df2 = df.set_index(['index'], ['event_count'])\n",
    "g = df.groupby('event_count')\n",
    "\n",
    "pts=[]\n",
    "for name, group in g: \n",
    "    for item in group['pt']:\n",
    "        item_sum = 0\n",
    "        item_sum += item**2\n",
    "        pts.append(item_sum)\n",
    "plt.hist(pts)\n",
    "plt.show()\n",
    "\n",
    "def func(row):\n",
    "    if abs(row['pdgid'])==6:\n",
    "        vals.append(row['phi'])\n",
    "    "
   ]
  },
  {
   "cell_type": "markdown",
   "id": "db0430bd-2618-48fe-b8dc-dfbf4d3ae430",
   "metadata": {},
   "source": [
    "## Using scikit-hep/vector testing"
   ]
  },
  {
   "cell_type": "code",
   "execution_count": null,
   "id": "5978799f-660c-48d4-94af-1128259bafc8",
   "metadata": {
    "tags": []
   },
   "outputs": [],
   "source": [
    "import vector"
   ]
  },
  {
   "cell_type": "markdown",
   "id": "e8267d1a-fb51-401a-8562-44f108e5ceda",
   "metadata": {},
   "source": [
    "## Plot of $p_t$, $\\phi$, $\\eta$ and Energy for each particle."
   ]
  },
  {
   "cell_type": "code",
   "execution_count": null,
   "id": "46c090e7-bd28-4106-841c-c408bea22a32",
   "metadata": {},
   "outputs": [],
   "source": [
    "fig, axes = plt.subplots(2,2)\n",
    "for param, ax in zip([\"pt\", \"eta\", \"phi\", \"energy\" ], axes.flatten()):\n",
    "    for num in [6,-6,23]:\n",
    "        particle_string = df[df['pdgid']==num].iloc[0].pdgid_latex\n",
    "        ax.hist(df[df['pdgid']==num][param], histtype='step', label=f\"${particle_string}$\", linewidth=2)\n",
    "#         ax.legend(title=\"Particle\", loc=\"upper right\")\n",
    "        if param == 'energy':\n",
    "            ax.title.set_text(\"Energy\")\n",
    "            ax.set_xlabel('Energy $[$GeV$]$', loc='right', fontsize=18)\n",
    "        elif param == 'pt':\n",
    "            ax.title.set_text(\"Transverse momentum - $p_{\\mathrm{T}}$\")\n",
    "            ax.set_xlabel('$p_t$ $[$GeV$]$', loc='right', fontsize=18)\n",
    "        elif param == 'eta':\n",
    "            ax.title.set_text(\"Pseudo-rapidity - $\\eta$\")\n",
    "            ax.set_xlabel('$\\eta$', loc='right', fontsize=18)\n",
    "        elif param == 'phi':\n",
    "            ax.title.set_text(\"Azimuthal angle - $\\phi$\")\n",
    "            ax.set_xlabel('$\\phi$', loc='right', fontsize=18)\n",
    "#         else:\n",
    "#             ax.title.set_text(f'$\\\\{param}$')\n",
    "#             ax.set_xlabel(f'$\\\\{param}$', loc='right',fontsize=18)\n",
    "        handles, labels = ax.get_legend_handles_labels()\n",
    "fig.tight_layout()\n",
    "fig.legend(handles, labels, loc='lower left', fontsize=16, facecolor='white')\n",
    "plt.savefig(\"4_hist_ttz.png\")\n",
    "plt.show()\n",
    "\n",
    "# for num in [6,-6, 23]:\n",
    "#     particle_string = df[df['pdgid']==num].iloc[0].pdgid_latex\n",
    "#     plt.hist(df[df['pdgid']==num]['pt'], histtype='step', linewidth=2.6, label=f\"${particle_string}$\")\n",
    "#     plt.legend(title=\"Particle:\", loc=\"upper right\")\n",
    "#     plt.title(\"Histogram of $p_t$ for $t,\\\\bar{t},Z$ in $pp \\\\to t\\\\bar{t}Z$\")\n",
    "#     plt.xlabel(\"$p_t$ $[$GeV$]$\")\n",
    "# plt.savefig('pt_ttZ_histo.png')\n",
    "# plt.show()"
   ]
  },
  {
   "cell_type": "markdown",
   "id": "b8bdcc27-9528-4a15-94f3-99c4466d9058",
   "metadata": {},
   "source": [
    "## Additional plots\n",
    "Require plots of: \n",
    "- $p_t$ of the total system\n",
    "- $\\delta \\phi$ between the tops\n",
    "\n",
    "Have to do calculations that depend on events. \n",
    "\n",
    "Firstly need a way to put the data into a dataframe. \n",
    "\n",
    "For p_t one way to idenfity would be to sum p_t for all particles where parent != 0. Parent = 0 implies intial state particle. \n",
    "\n",
    "For delta phi, extract the four vecs for particles where abs(pdgid)==6"
   ]
  },
  {
   "cell_type": "code",
   "execution_count": null,
   "id": "ae38ae1c-9152-4c66-a5b8-0d2cdad01823",
   "metadata": {},
   "outputs": [],
   "source": [
    "##doing this to keep the following operations from messing everything up\n",
    "\n",
    "df2 = df"
   ]
  },
  {
   "cell_type": "code",
   "execution_count": null,
   "id": "35a23ade-f097-48e6-a39a-7a3b93d247e5",
   "metadata": {},
   "outputs": [],
   "source": [
    "delta_phi=[]\n",
    "for name, group in df2.groupby('event_count'):\n",
    "    t_vecs=[]\n",
    "    for row_index, row in group.iterrows():\n",
    "        if abs(row.pdgid)==6:\n",
    "            t_vecs.append(vector.obj(pt=row['pt'], phi=row['phi'], eta=row['eta'], E=row['energy']))\n",
    "    delta_phi.append(t_vecs[0].deltaphi(t_vecs[1]))\n",
    "for i in range(0, len(delta_phi)+1):\n",
    "    df2.loc[(df2['event_count']==i)]['deltaphi'] = 12\n",
    "    \n",
    "plt.hist(delta_phi, bins=50)\n",
    "df2"
   ]
  },
  {
   "cell_type": "code",
   "execution_count": null,
   "id": "53b0b60f-de10-4110-b89b-27ed71761ca2",
   "metadata": {},
   "outputs": [],
   "source": [
    "# df = pd.read_hdf('event_files/hdf5/ttZ_events_02_data.h5', 'particles_limited')"
   ]
  },
  {
   "cell_type": "code",
   "execution_count": null,
   "id": "58fa993f-c644-4023-a065-2ce005e9c8fd",
   "metadata": {},
   "outputs": [],
   "source": [
    "# df.head()"
   ]
  },
  {
   "cell_type": "code",
   "execution_count": 40,
   "id": "55530be8-74ec-4716-a5d8-193641b3f8dd",
   "metadata": {},
   "outputs": [],
   "source": []
  },
  {
   "cell_type": "code",
   "execution_count": 41,
   "id": "e1631a0d-1983-43c7-9ba9-d10edad8ea93",
   "metadata": {},
   "outputs": [],
   "source": []
  },
  {
   "cell_type": "code",
   "execution_count": 12,
   "id": "c852585d-b2a6-4204-9cda-de32d760f663",
   "metadata": {},
   "outputs": [
    {
     "data": {
      "text/html": [
       "<div>\n",
       "<style scoped>\n",
       "    .dataframe tbody tr th:only-of-type {\n",
       "        vertical-align: middle;\n",
       "    }\n",
       "\n",
       "    .dataframe tbody tr th {\n",
       "        vertical-align: top;\n",
       "    }\n",
       "\n",
       "    .dataframe thead th {\n",
       "        text-align: right;\n",
       "    }\n",
       "</style>\n",
       "<table border=\"1\" class=\"dataframe\">\n",
       "  <thead>\n",
       "    <tr style=\"text-align: right;\">\n",
       "      <th></th>\n",
       "      <th>event_info</th>\n",
       "      <th>particles</th>\n",
       "    </tr>\n",
       "  </thead>\n",
       "  <tbody>\n",
       "    <tr>\n",
       "      <th>0</th>\n",
       "      <td>&lt;LHEImport.LHEImport2.LHEEventInfo object at 0...</td>\n",
       "      <td>[Particle, PDGID21, Particle, PDGID21, Particl...</td>\n",
       "    </tr>\n",
       "    <tr>\n",
       "      <th>1</th>\n",
       "      <td>&lt;LHEImport.LHEImport2.LHEEventInfo object at 0...</td>\n",
       "      <td>[Particle, PDGID2, Particle, PDGID-2, Particle...</td>\n",
       "    </tr>\n",
       "    <tr>\n",
       "      <th>2</th>\n",
       "      <td>&lt;LHEImport.LHEImport2.LHEEventInfo object at 0...</td>\n",
       "      <td>[Particle, PDGID21, Particle, PDGID21, Particl...</td>\n",
       "    </tr>\n",
       "    <tr>\n",
       "      <th>3</th>\n",
       "      <td>&lt;LHEImport.LHEImport2.LHEEventInfo object at 0...</td>\n",
       "      <td>[Particle, PDGID-1, Particle, PDGID1, Particle...</td>\n",
       "    </tr>\n",
       "    <tr>\n",
       "      <th>4</th>\n",
       "      <td>&lt;LHEImport.LHEImport2.LHEEventInfo object at 0...</td>\n",
       "      <td>[Particle, PDGID21, Particle, PDGID21, Particl...</td>\n",
       "    </tr>\n",
       "  </tbody>\n",
       "</table>\n",
       "</div>"
      ],
      "text/plain": [
       "                                          event_info  \\\n",
       "0  <LHEImport.LHEImport2.LHEEventInfo object at 0...   \n",
       "1  <LHEImport.LHEImport2.LHEEventInfo object at 0...   \n",
       "2  <LHEImport.LHEImport2.LHEEventInfo object at 0...   \n",
       "3  <LHEImport.LHEImport2.LHEEventInfo object at 0...   \n",
       "4  <LHEImport.LHEImport2.LHEEventInfo object at 0...   \n",
       "\n",
       "                                           particles  \n",
       "0  [Particle, PDGID21, Particle, PDGID21, Particl...  \n",
       "1  [Particle, PDGID2, Particle, PDGID-2, Particle...  \n",
       "2  [Particle, PDGID21, Particle, PDGID21, Particl...  \n",
       "3  [Particle, PDGID-1, Particle, PDGID1, Particle...  \n",
       "4  [Particle, PDGID21, Particle, PDGID21, Particl...  "
      ]
     },
     "execution_count": 12,
     "metadata": {},
     "output_type": "execute_result"
    }
   ],
   "source": [
    "# df[0][2].particles[1].e"
   ]
  },
  {
   "cell_type": "code",
   "execution_count": 50,
   "id": "ffc404e4-fcbc-414f-8839-0a7b10c56ab4",
   "metadata": {},
   "outputs": [
    {
     "data": {
      "text/plain": [
       "23"
      ]
     },
     "execution_count": 50,
     "metadata": {},
     "output_type": "execute_result"
    }
   ],
   "source": []
  }
 ],
 "metadata": {
  "kernelspec": {
   "display_name": "Python 3 (ipykernel)",
   "language": "python",
   "name": "python3"
  },
  "language_info": {
   "codemirror_mode": {
    "name": "ipython",
    "version": 3
   },
   "file_extension": ".py",
   "mimetype": "text/x-python",
   "name": "python",
   "nbconvert_exporter": "python",
   "pygments_lexer": "ipython3",
   "version": "3.10.1"
  }
 },
 "nbformat": 4,
 "nbformat_minor": 5
}
