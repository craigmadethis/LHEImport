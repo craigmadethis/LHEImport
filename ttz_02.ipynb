{
 "cells": [
  {
   "cell_type": "markdown",
   "id": "ffd56c71-7fbc-4c15-a56e-72595c28be7e",
   "metadata": {},
   "source": [
    "## Generated new data set with systematics"
   ]
  },
  {
   "cell_type": "code",
   "execution_count": 1,
   "id": "bd378d12-61c9-4d72-a581-15d8c4d6c464",
   "metadata": {},
   "outputs": [],
   "source": [
    "from LHEImport.LHEImport import LHEImport as LHEI\n",
    "from LHEImport.LHEImport2 import read_lhe\n",
    "import numpy as np\n",
    "import pandas as pd\n",
    "import matplotlib.pyplot as plt\n",
    "plt.style.use([\"science\", \"grid\", \"high-contrast\"])\n",
    "plt.rcParams.update({\"font.family\":\"serif\", \"font.size\":20, \"figure.figsize\":[12,8]})"
   ]
  },
  {
   "cell_type": "code",
   "execution_count": null,
   "id": "9cdb50b7-6157-486c-8fd1-b4d36fb0aa43",
   "metadata": {
    "tags": []
   },
   "outputs": [],
   "source": [
    "## uncomment this cell to generate the hdf5 files.\n",
    "data = LHEI('event_files/lhe/ttZ_events_lhapdf_02.lhe')\n",
    "data.toHDF5('event_files/hdf5/ttZ_events_02_data', 'particles_limited', limit_events=True)\n",
    "# data.toHDF5('event_files/hdf5/ttZ_events_02', 'particles', limit_events=False)"
   ]
  },
  {
   "cell_type": "code",
   "execution_count": null,
   "id": "22525fbe-dade-454f-9072-d0034944343a",
   "metadata": {},
   "outputs": [],
   "source": [
    "# # generating a big list of all data, can then be imported into a pd.DataFrame\n",
    "# datalist = []\n",
    "# for i in range(0, len(Data['eventdata'])):\n",
    "#     event_particles = Data['eventdata'][i]['final_particles']\n",
    "#     for particle in event_particles:\n",
    "#         datalist.append(particle.__dict__)"
   ]
  },
  {
   "cell_type": "code",
   "execution_count": null,
   "id": "30334367-d32a-454f-b4f3-bbf27e4bb9dc",
   "metadata": {},
   "outputs": [],
   "source": [
    "# df = pd.DataFrame(datalist)"
   ]
  },
  {
   "cell_type": "code",
   "execution_count": null,
   "id": "e4479899-cefb-408d-89b2-7a543eba0588",
   "metadata": {},
   "outputs": [],
   "source": [
    "df = pd.read_hdf('event_files/hdf5/ttZ_events_02.h5', 'particles_limited')\n",
    "df.set_index(['event_count', 'barcode'])\n",
    "# df = pd.read_hdf('event_files/hdf5/ttZ_events_02.h5', 'limit_particles')\n",
    "# df2 = df.set_index(['index'], ['event_count'])\n",
    "g = df.groupby('event_count')\n",
    "\n",
    "pts=[]\n",
    "for name, group in g: \n",
    "    for item in group['pt']:\n",
    "        item_sum = 0\n",
    "        item_sum += item**2\n",
    "        pts.append(item_sum)\n",
    "plt.hist(pts)\n",
    "plt.show()\n",
    "\n",
    "def func(row):\n",
    "    if abs(row['pdgid'])==6:\n",
    "        vals.append(row['phi'])\n",
    "    "
   ]
  },
  {
   "cell_type": "markdown",
   "id": "db0430bd-2618-48fe-b8dc-dfbf4d3ae430",
   "metadata": {},
   "source": [
    "## Using scikit-hep/vector testing"
   ]
  },
  {
   "cell_type": "code",
   "execution_count": null,
   "id": "5978799f-660c-48d4-94af-1128259bafc8",
   "metadata": {
    "tags": []
   },
   "outputs": [],
   "source": [
    "import vector"
   ]
  },
  {
   "cell_type": "markdown",
   "id": "e8267d1a-fb51-401a-8562-44f108e5ceda",
   "metadata": {},
   "source": [
    "## Plot of $p_t$, $\\phi$, $\\eta$ and Energy for each particle."
   ]
  },
  {
   "cell_type": "code",
   "execution_count": null,
   "id": "46c090e7-bd28-4106-841c-c408bea22a32",
   "metadata": {},
   "outputs": [],
   "source": [
    "fig, axes = plt.subplots(2,2)\n",
    "for param, ax in zip([\"pt\", \"eta\", \"phi\", \"energy\" ], axes.flatten()):\n",
    "    for num in [6,-6,23]:\n",
    "        particle_string = df[df['pdgid']==num].iloc[0].pdgid_latex\n",
    "        ax.hist(df[df['pdgid']==num][param], histtype='step', label=f\"${particle_string}$\", linewidth=2)\n",
    "#         ax.legend(title=\"Particle\", loc=\"upper right\")\n",
    "        if param == 'energy':\n",
    "            ax.title.set_text(\"Energy\")\n",
    "            ax.set_xlabel('Energy $[$GeV$]$', loc='right', fontsize=18)\n",
    "        elif param == 'pt':\n",
    "            ax.title.set_text(\"Transverse momentum - $p_{\\mathrm{T}}$\")\n",
    "            ax.set_xlabel('$p_t$ $[$GeV$]$', loc='right', fontsize=18)\n",
    "        elif param == 'eta':\n",
    "            ax.title.set_text(\"Pseudo-rapidity - $\\eta$\")\n",
    "            ax.set_xlabel('$\\eta$', loc='right', fontsize=18)\n",
    "        elif param == 'phi':\n",
    "            ax.title.set_text(\"Azimuthal angle - $\\phi$\")\n",
    "            ax.set_xlabel('$\\phi$', loc='right', fontsize=18)\n",
    "#         else:\n",
    "#             ax.title.set_text(f'$\\\\{param}$')\n",
    "#             ax.set_xlabel(f'$\\\\{param}$', loc='right',fontsize=18)\n",
    "        handles, labels = ax.get_legend_handles_labels()\n",
    "fig.tight_layout()\n",
    "fig.legend(handles, labels, loc='lower left', fontsize=16, facecolor='white')\n",
    "plt.savefig(\"4_hist_ttz.png\")\n",
    "plt.show()\n",
    "\n",
    "# for num in [6,-6, 23]:\n",
    "#     particle_string = df[df['pdgid']==num].iloc[0].pdgid_latex\n",
    "#     plt.hist(df[df['pdgid']==num]['pt'], histtype='step', linewidth=2.6, label=f\"${particle_string}$\")\n",
    "#     plt.legend(title=\"Particle:\", loc=\"upper right\")\n",
    "#     plt.title(\"Histogram of $p_t$ for $t,\\\\bar{t},Z$ in $pp \\\\to t\\\\bar{t}Z$\")\n",
    "#     plt.xlabel(\"$p_t$ $[$GeV$]$\")\n",
    "# plt.savefig('pt_ttZ_histo.png')\n",
    "# plt.show()"
   ]
  },
  {
   "cell_type": "markdown",
   "id": "b8bdcc27-9528-4a15-94f3-99c4466d9058",
   "metadata": {},
   "source": [
    "## Additional plots\n",
    "Require plots of: \n",
    "- $p_t$ of the total system\n",
    "- $\\delta \\phi$ between the tops\n",
    "\n",
    "Have to do calculations that depend on events. \n",
    "\n",
    "Firstly need a way to put the data into a dataframe. \n",
    "\n",
    "For p_t one way to idenfity would be to sum p_t for all particles where parent != 0. Parent = 0 implies intial state particle. \n",
    "\n",
    "For delta phi, extract the four vecs for particles where abs(pdgid)==6"
   ]
  },
  {
   "cell_type": "code",
   "execution_count": null,
   "id": "ae38ae1c-9152-4c66-a5b8-0d2cdad01823",
   "metadata": {},
   "outputs": [],
   "source": [
    "##doing this to keep the following operations from messing everything up\n",
    "\n",
    "df2 = df"
   ]
  },
  {
   "cell_type": "code",
   "execution_count": null,
   "id": "35a23ade-f097-48e6-a39a-7a3b93d247e5",
   "metadata": {},
   "outputs": [],
   "source": [
    "delta_phi=[]\n",
    "for name, group in df2.groupby('event_count'):\n",
    "    t_vecs=[]\n",
    "    for row_index, row in group.iterrows():\n",
    "        if abs(row.pdgid)==6:\n",
    "            t_vecs.append(vector.obj(pt=row['pt'], phi=row['phi'], eta=row['eta'], E=row['energy']))\n",
    "    delta_phi.append(t_vecs[0].deltaphi(t_vecs[1]))\n",
    "for i in range(0, len(delta_phi)+1):\n",
    "    df2.loc[(df2['event_count']==i)]['deltaphi'] = 12\n",
    "    \n",
    "plt.hist(delta_phi, bins=50)\n",
    "df2"
   ]
  },
  {
   "cell_type": "code",
   "execution_count": null,
   "id": "53b0b60f-de10-4110-b89b-27ed71761ca2",
   "metadata": {},
   "outputs": [],
   "source": [
    "# df = pd.read_hdf('event_files/hdf5/ttZ_events_02_data.h5', 'particles_limited')"
   ]
  },
  {
   "cell_type": "code",
   "execution_count": null,
   "id": "58fa993f-c644-4023-a065-2ce005e9c8fd",
   "metadata": {},
   "outputs": [],
   "source": [
    "# df.head()"
   ]
  },
  {
   "cell_type": "code",
   "execution_count": 133,
   "id": "55530be8-74ec-4716-a5d8-193641b3f8dd",
   "metadata": {},
   "outputs": [],
   "source": [
    "data = read_lhe('event_files/lhe/ttZ_events_lhapdf_02.lhe')"
   ]
  },
  {
   "cell_type": "code",
   "execution_count": 134,
   "id": "e1631a0d-1983-43c7-9ba9-d10edad8ea93",
   "metadata": {},
   "outputs": [],
   "source": [
    "events = [e for e in data]\n",
    "objects = [o for o in events]\n",
    "event_info = [x.eventinfo for x in objects]\n",
    "particles = [x.particles for x in objects]"
   ]
  },
  {
   "cell_type": "code",
   "execution_count": 158,
   "id": "13ef2090-ed7f-474e-976d-377e556a3ca4",
   "metadata": {},
   "outputs": [
    {
     "ename": "SyntaxError",
     "evalue": "unexpected EOF while parsing (1732738820.py, line 1)",
     "output_type": "error",
     "traceback": [
      "\u001b[0;36m  File \u001b[0;32m\"/tmp/ipykernel_29022/1732738820.py\"\u001b[0;36m, line \u001b[0;32m1\u001b[0m\n\u001b[0;31m    d = {{'Event Info': e.__dict for e in event_info}\u001b[0m\n\u001b[0m                                                     ^\u001b[0m\n\u001b[0;31mSyntaxError\u001b[0m\u001b[0;31m:\u001b[0m unexpected EOF while parsing\n"
     ]
    }
   ],
   "source": [
    "d = {{'Event Info': e.__dict for e in event_info}"
   ]
  },
  {
   "cell_type": "code",
   "execution_count": 159,
   "id": "6bc5e590-a287-470e-959b-ea4693f33e61",
   "metadata": {},
   "outputs": [
    {
     "ename": "IndentationError",
     "evalue": "unexpected indent (3060096598.py, line 18)",
     "output_type": "error",
     "traceback": [
      "\u001b[0;36m  File \u001b[0;32m\"/tmp/ipykernel_29022/3060096598.py\"\u001b[0;36m, line \u001b[0;32m18\u001b[0m\n\u001b[0;31m    why am i doing this\u001b[0m\n\u001b[0m    ^\u001b[0m\n\u001b[0;31mIndentationError\u001b[0m\u001b[0;31m:\u001b[0m unexpected indent\n"
     ]
    }
   ],
   "source": [
    "pt_all = []\n",
    "for o in obj:\n",
    "    pts=[]\n",
    "    for particle in o.particles:\n",
    "        pts.append(particle.pt)\n",
    "    for pt in pts: \n",
    "        total = 0\n",
    "        total += pt**2\n",
    "        total = np.sqrt(total)\n",
    "    pt_all.append(total)\n",
    "            \n",
    "counts, bins = np.histogram(pt_all)\n",
    "print(counts)\n",
    "plt.hist(bins[:-1], bins, weights=counts)\n",
    "plt.title('pt all final state particles')\n",
    "plt.show()\n",
    "            \n",
    "    why am i doing this\n",
    "        "
   ]
  },
  {
   "cell_type": "code",
   "execution_count": 26,
   "id": "07eed4c0-71f1-420e-bc09-9228bd5341a1",
   "metadata": {},
   "outputs": [
    {
     "data": {
      "image/png": "[encoded data removed]",
      "text/plain": [
       "<Figure size 864x576 with 1 Axes>"
      ]
     },
     "metadata": {
      "needs_background": "light"
     },
     "output_type": "display_data"
    }
   ],
   "source": [
    "deltaphi_all = []\n",
    "weights=[]\n",
    "for o in obj: \n",
    "    phis = []\n",
    "    for particle in o.particles:\n",
    "        if particle.m == 173.0:\n",
    "            phis.append(particle.phi)\n",
    "    deltaphi_all.append(abs(phis[0] - phis[1]))\n",
    "    weights.append(o.eventinfo.weight)\n",
    "counts, bins = np.histogram(deltaphi_all)\n",
    "plt.hist(bins[:-1], bins, weights=counts)\n",
    "plt.show()"
   ]
  },
  {
   "cell_type": "code",
   "execution_count": null,
   "id": "174ac292-4f0e-416c-9159-ef3c220368b5",
   "metadata": {},
   "outputs": [],
   "source": [
    "\n",
    "print(obj[0].particles[0])"
   ]
  },
  {
   "cell_type": "code",
   "execution_count": null,
   "id": "f28d81a4-dd3b-4343-8e32-10beb39af5aa",
   "metadata": {},
   "outputs": [],
   "source": []
  }
 ],
 "metadata": {
  "kernelspec": {
   "display_name": "Python 3 (ipykernel)",
   "language": "python",
   "name": "python3"
  },
  "language_info": {
   "codemirror_mode": {
    "name": "ipython",
    "version": 3
   },
   "file_extension": ".py",
   "mimetype": "text/x-python",
   "name": "python",
   "nbconvert_exporter": "python",
   "pygments_lexer": "ipython3",
   "version": "3.9.7"
  }
 },
 "nbformat": 4,
 "nbformat_minor": 5
}
