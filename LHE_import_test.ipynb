{
 "cells": [
  {
   "cell_type": "code",
   "execution_count": null,
   "id": "0ffb06a2-4699-417f-92a7-e5c9de9d98fa",
   "metadata": {},
   "outputs": [],
   "source": [
    "from LHEImport.LHEImport import LHEImport as LHEI\n",
    "import numpy as np\n",
    "import pandas as pd\n",
    "import matplotlib.pyplot as plt"
   ]
  },
  {
   "cell_type": "markdown",
   "id": "17679132-fe0f-4475-9d76-53d103283f81",
   "metadata": {},
   "source": [
    "# t t~"
   ]
  },
  {
   "cell_type": "code",
   "execution_count": null,
   "id": "7a735de2-92e0-4993-b982-b84d0ba44885",
   "metadata": {},
   "outputs": [],
   "source": [
    "numcollisions = 10\n",
    "particles = []\n",
    "\n",
    "# index = 0\n",
    "for i in range(0,numcollisions):\n",
    "    event, final_particles, init = LHEI('event_files/ttZ_run01.lhe',i).parse()\n",
    "    for j in range(0, len(final_particles)):\n",
    "        final_particles[j].__dict__['collision'] = i\n",
    "  #      np[j].__dict__['index'] = index\n",
    "        particles.append(final_particles[j].__dict__)\n",
    "  #      index += 1\n",
    "\n",
    "df = pd.DataFrame(particles)\n",
    "df.keys()\n",
    "tbars =df[df['pdgid'] == -6]\n",
    "tbars[['px', 'py', 'pz', 'energy']]"
   ]
  },
  {
   "cell_type": "code",
   "execution_count": null,
   "id": "3f0d35b0-a116-41ab-b164-b588833ba52b",
   "metadata": {},
   "outputs": [],
   "source": []
  },
  {
   "cell_type": "code",
   "execution_count": null,
   "id": "fcb44262-53e9-4c89-a5a5-54e8282491ec",
   "metadata": {},
   "outputs": [],
   "source": [
    "plt.hist(tbars['energy'])\n",
    "plt.xlabel('Energy GeV')\n",
    "plt.show()"
   ]
  },
  {
   "cell_type": "markdown",
   "id": "aea2aa16-c82c-4745-a08f-72b5ca4fb787",
   "metadata": {},
   "source": [
    "# ttZ"
   ]
  },
  {
   "cell_type": "code",
   "execution_count": null,
   "id": "e35118fc-c726-43df-8420-8dc531270e69",
   "metadata": {},
   "outputs": [],
   "source": [
    "numcollisions = 100\n",
    "ttz_particles = []\n",
    "\n",
    "\n",
    "# index = 0\n",
    "for i in range(0,numcollisions):\n",
    "    event, final_particles = LHEI('event_files/ttZ_events.lhe',i).parse()\n",
    "    for j in range(0, len(final_particles)):\n",
    "        final_particles[j].__dict__['collision'] = i\n",
    "  #      np[j].__dict__['index'] = index\n",
    "        ttz_particles.append(final_particles[j].__dict__)\n",
    "  #      index += 1\n",
    "\n",
    "df = pd.DataFrame(ttz_particles)\n",
    "tbars =df[df['pdgid'] == -6]\n",
    "tbars[['px', 'py', 'pz', 'energy']]\n"
   ]
  },
  {
   "cell_type": "code",
   "execution_count": null,
   "id": "544ee9ef-2177-4649-b729-9f0050e93663",
   "metadata": {},
   "outputs": [],
   "source": [
    "plt.hist(tbars['energy'])\n",
    "plt.show()"
   ]
  },
  {
   "cell_type": "markdown",
   "id": "db829410-dca5-4e83-b014-b2a278f84efd",
   "metadata": {},
   "source": [
    "Determining the init block"
   ]
  },
  {
   "cell_type": "code",
   "execution_count": null,
   "id": "fd2f87d0-edc6-47f3-91cd-7325f02de657",
   "metadata": {},
   "outputs": [],
   "source": [
    "from os import listdir\n",
    "from os.path import isfile, join\n",
    "\n",
    "onlyfiles = [join('event_files/',f) for f in listdir('event_files/') if isfile(join('event_files/',f))]\n",
    "print(onlyfiles)\n",
    "\n"
   ]
  },
  {
   "cell_type": "code",
   "execution_count": null,
   "id": "8643bb65-58c9-4dc1-a605-dab658687fcd",
   "metadata": {},
   "outputs": [],
   "source": [
    "rows = []\n",
    "for file in onlyfiles: \n",
    "    a,b,init = LHEI(file).parse()\n",
    "    init['file']=file\n",
    "    rows.append(init)\n",
    "    \n",
    "init_data = pd.DataFrame(rows)\n",
    "init_data"
   ]
  },
  {
   "cell_type": "code",
   "execution_count": null,
   "id": "010aba40-863b-4b97-8404-90eb3c461b58",
   "metadata": {},
   "outputs": [],
   "source": [
    "data = LHEI('event_files/ttZ_run01.lhe')\n",
    "Data= data.importevents(limit_events=True)"
   ]
  },
  {
   "cell_type": "code",
   "execution_count": null,
   "id": "63f48ae4-c48b-4f21-a01a-fd2fb7804b17",
   "metadata": {},
   "outputs": [],
   "source": [
    "rows = []"
   ]
  },
  {
   "cell_type": "code",
   "execution_count": null,
   "id": "fd45e685-be79-49a0-b31f-35385299ae6d",
   "metadata": {},
   "outputs": [],
   "source": [
    "for i in range(0, len(Data['eventdata'])):\n",
    "    particles = Data['eventdata'][i]['final_particles']\n",
    "    for particle in particles:\n",
    "        rows.append(particle.__dict__)\n",
    "df2 = pd.DataFrame(rows)\n",
    "df2"
   ]
  },
  {
   "cell_type": "code",
   "execution_count": null,
   "id": "c5a022d8-07cf-421b-a663-df3b0ac5d9ce",
   "metadata": {},
   "outputs": [],
   "source": [
    "# z total momentum\n",
    "plt.hist(df2[(df2.pdgid==23)].pt)\n",
    "plt.xlabel('$p_t$')\n",
    "plt.ylabel('Ocurrences')\n",
    "plt.show()"
   ]
  },
  {
   "cell_type": "code",
   "execution_count": null,
   "id": "8b68b9af-f32d-4b8c-be2c-99b01bd987ae",
   "metadata": {},
   "outputs": [],
   "source": [
    " # df1 = pd.DataFrame(Data['stats'], index=[0])\n",
    "# df2 = pd.DataFrame(Data['eventdata'][1]['final_particles'])\n",
    "# df2"
   ]
  },
  {
   "cell_type": "markdown",
   "id": "ffd56c71-7fbc-4c15-a56e-72595c28be7e",
   "metadata": {},
   "source": [
    "## Generated new data set with systematics"
   ]
  },
  {
   "cell_type": "code",
   "execution_count": 1,
   "id": "bd378d12-61c9-4d72-a581-15d8c4d6c464",
   "metadata": {},
   "outputs": [],
   "source": [
    "from LHEImport.LHEImport import LHEImport as LHEI\n",
    "import numpy as np\n",
    "import pandas as pd\n",
    "import matplotlib.pyplot as plt"
   ]
  },
  {
   "cell_type": "code",
   "execution_count": 2,
   "id": "33f420cd-a27e-47f4-b78e-4cab1fe003e3",
   "metadata": {},
   "outputs": [],
   "source": [
    "data = LHEI('event_files_lhapdf/ttZ_events_lhapdf_02.lhe')"
   ]
  },
  {
   "cell_type": "code",
   "execution_count": null,
   "id": "f56eb56f-92b5-484f-bbbc-bc7d607a68d2",
   "metadata": {},
   "outputs": [],
   "source": [
    "# Data= data.importevents(limit_events=True)"
   ]
  },
  {
   "cell_type": "code",
   "execution_count": null,
   "id": "141e9261-9461-4729-afec-523a63b58976",
   "metadata": {},
   "outputs": [],
   "source": [
    "#checking first event\n",
    "\n",
    "event_1_particles = Data['eventdata'][0]['final_particles']"
   ]
  },
  {
   "cell_type": "code",
   "execution_count": null,
   "id": "7eada0c3-f670-4d9d-9d1e-341fdb1a8aa2",
   "metadata": {},
   "outputs": [],
   "source": [
    "#single event table, concat df for each particle\n",
    "dff = pd.concat([pd.DataFrame([particle.__dict__]) for particle in event_1_particles], ignore_index=True)\n",
    "dff"
   ]
  },
  {
   "cell_type": "code",
   "execution_count": 3,
   "id": "9cdb50b7-6157-486c-8fd1-b4d36fb0aa43",
   "metadata": {},
   "outputs": [],
   "source": [
    "Data = data.importevents(limit_events=False)"
   ]
  },
  {
   "cell_type": "code",
   "execution_count": 4,
   "id": "22525fbe-dade-454f-9072-d0034944343a",
   "metadata": {},
   "outputs": [],
   "source": [
    "# generating a big list of all data, can then be imported into a pd.DataFrame\n",
    "datalist = []\n",
    "for i in range(0, len(Data['eventdata'])):\n",
    "    event_particles = Data['eventdata'][i]['final_particles']\n",
    "    for particle in event_particles:\n",
    "        datalist.append(particle.__dict__)"
   ]
  },
  {
   "cell_type": "code",
   "execution_count": 5,
   "id": "1d01259b-f53e-4f00-b717-35f4bbab006b",
   "metadata": {},
   "outputs": [],
   "source": [
    "df = pd.DataFrame(datalist)\n",
    "Zs = df[(df.pdgid==23)]"
   ]
  },
  {
   "cell_type": "code",
   "execution_count": 6,
   "id": "21119a65-d6ff-4f61-98c0-0e8505b62dfd",
   "metadata": {},
   "outputs": [
    {
     "data": {
      "image/png": "[encoded data removed]",
      "text/plain": [
       "<Figure size 432x288 with 1 Axes>"
      ]
     },
     "metadata": {
      "needs_background": "light"
     },
     "output_type": "display_data"
    }
   ],
   "source": [
    "plt.hist(Zs['energy'],bins=50)\n",
    "plt.xlim(0,2500)\n",
    "plt.xlabel('Energy')\n",
    "plt.ylabel('Ocurrences')\n",
    "plt.show()"
   ]
  },
  {
   "cell_type": "code",
   "execution_count": 7,
   "id": "5c2f46ed-70cb-4032-8f59-8f733cc74b67",
   "metadata": {},
   "outputs": [
    {
     "data": {
      "image/png": "[encoded data removed]",
      "text/plain": [
       "<Figure size 432x288 with 1 Axes>"
      ]
     },
     "metadata": {
      "needs_background": "light"
     },
     "output_type": "display_data"
    }
   ],
   "source": [
    "plt.hist(Zs['pt'], bins=50)\n",
    "plt.xlabel('$p_t$')\n",
    "plt.show()"
   ]
  },
  {
   "cell_type": "markdown",
   "id": "db0430bd-2618-48fe-b8dc-dfbf4d3ae430",
   "metadata": {},
   "source": [
    "## Using scikit-hep/vector testing"
   ]
  },
  {
   "cell_type": "code",
   "execution_count": 8,
   "id": "5978799f-660c-48d4-94af-1128259bafc8",
   "metadata": {},
   "outputs": [],
   "source": [
    "import vector"
   ]
  },
  {
   "cell_type": "code",
   "execution_count": 9,
   "id": "9d931b5b-cbad-410e-a86b-8d094437972b",
   "metadata": {},
   "outputs": [],
   "source": [
    "Zs = df.loc[df['pdgid'] ==23]\n",
    "ts = df.loc[df['pdgid'] ==6]\n",
    "tbars = df.loc[df['pdgid'] ==-6]"
   ]
  },
  {
   "cell_type": "code",
   "execution_count": 10,
   "id": "41e836d1-b759-475d-8f0c-cdd994c8a605",
   "metadata": {},
   "outputs": [],
   "source": [
    "z_vecs=vector.arr({\n",
    "    'pt':Zs['pt'].values, \n",
    "    'phi':Zs['phi'].values, \n",
    "    'eta':Zs['pt'].values, \n",
    "    'e':Zs['energy'].values\n",
    "                })\n",
    "t_vecs=vector.arr({\n",
    "    'pt':ts['pt'].values, \n",
    "    'phi':ts['phi'].values, \n",
    "    'eta':ts['pt'].values, \n",
    "    'e':ts['energy'].values\n",
    "                })\n",
    "tbar_vecs=vector.arr({\n",
    "    'pt':tbars['pt'].values, \n",
    "    'phi':tbars['phi'].values, \n",
    "    'eta':tbars['pt'].values, \n",
    "    'e':tbars['energy'].values\n",
    "                })"
   ]
  },
  {
   "cell_type": "code",
   "execution_count": 11,
   "id": "5e8ea4bc-499d-4b38-9a1b-dac46bb08a1b",
   "metadata": {},
   "outputs": [
    {
     "data": {
      "image/png": "[encoded data removed]",
      "text/plain": [
       "<Figure size 432x288 with 1 Axes>"
      ]
     },
     "metadata": {
      "needs_background": "light"
     },
     "output_type": "display_data"
    }
   ],
   "source": [
    "plt.hist(z_vecs.e,bins=100)\n",
    "plt.title('$E$ for Z from $p p \\mapsto t t~ z$')\n",
    "plt.xlim(0,2500)\n",
    "plt.xlabel('$E$')\n",
    "plt.ylabel('Ocurrences')\n",
    "plt.show()"
   ]
  },
  {
   "cell_type": "code",
   "execution_count": 12,
   "id": "c9022e25-190f-4973-950c-595aabd26a38",
   "metadata": {},
   "outputs": [
    {
     "data": {
      "image/png": "[encoded data removed]",
      "text/plain": [
       "<Figure size 432x288 with 1 Axes>"
      ]
     },
     "metadata": {
      "needs_background": "light"
     },
     "output_type": "display_data"
    }
   ],
   "source": [
    "plt.hist(t_vecs.e,bins=100)\n",
    "plt.title('$E$ for t from $p p \\mapsto t t~ z$')\n",
    "plt.xlim(0,2500)\n",
    "plt.xlabel('$E$')\n",
    "plt.ylabel('Ocurrences')\n",
    "plt.show()"
   ]
  },
  {
   "cell_type": "code",
   "execution_count": 13,
   "id": "e04f7db9-4748-4020-95d7-5eb40677fe45",
   "metadata": {},
   "outputs": [
    {
     "data": {
      "image/png": "[encoded data removed]",
      "text/plain": [
       "<Figure size 432x288 with 1 Axes>"
      ]
     },
     "metadata": {
      "needs_background": "light"
     },
     "output_type": "display_data"
    }
   ],
   "source": [
    "plt.hist(tbar_vecs.e,bins=100)\n",
    "plt.title('$E$ for t from $p p \\mapsto t t~ z$')\n",
    "plt.xlim(0,2500)\n",
    "plt.xlabel('$E$')\n",
    "plt.ylabel('Ocurrences')\n",
    "plt.show()"
   ]
  },
  {
   "cell_type": "code",
   "execution_count": 14,
   "id": "46bdced8-da88-42c1-b719-40367637f0b3",
   "metadata": {},
   "outputs": [
    {
     "data": {
      "image/png": "[encoded data removed]",
      "text/plain": [
       "<Figure size 432x288 with 1 Axes>"
      ]
     },
     "metadata": {
      "needs_background": "light"
     },
     "output_type": "display_data"
    }
   ],
   "source": [
    "plt.hist(z_vecs.pt, bins=50)\n",
    "plt.title('$p_t$ for $z$ from $p p \\mapsto t t~ z$')\n",
    "plt.xlim(0,800)\n",
    "plt.xlabel('$p_t$')\n",
    "plt.ylabel('Ocurrences')\n",
    "plt.show()"
   ]
  },
  {
   "cell_type": "code",
   "execution_count": 15,
   "id": "b495cac8-2b5a-4a23-877a-bd112c9e1003",
   "metadata": {},
   "outputs": [
    {
     "data": {
      "image/png": "[encoded data removed]",
      "text/plain": [
       "<Figure size 432x288 with 1 Axes>"
      ]
     },
     "metadata": {
      "needs_background": "light"
     },
     "output_type": "display_data"
    }
   ],
   "source": [
    "plt.hist(t_vecs.pt, bins=50)\n",
    "plt.title('$p_t$ for $z$ from $p p \\mapsto t t~ z$')\n",
    "plt.xlim(0,800)\n",
    "plt.xlabel('$p_t$')\n",
    "plt.ylabel('Ocurrences')\n",
    "plt.show()"
   ]
  },
  {
   "cell_type": "code",
   "execution_count": 16,
   "id": "5a6efd3e-6a5c-415a-b2fd-a96249d1648c",
   "metadata": {},
   "outputs": [
    {
     "data": {
      "image/png": "[encoded data removed]",
      "text/plain": [
       "<Figure size 432x288 with 1 Axes>"
      ]
     },
     "metadata": {
      "needs_background": "light"
     },
     "output_type": "display_data"
    }
   ],
   "source": [
    "plt.hist(tbar_vecs.pt, bins=50)\n",
    "plt.title('$p_t$ for $t$ from $p p \\mapsto t t~ z$')\n",
    "plt.xlim(0,800)\n",
    "plt.xlabel('$p_t$')\n",
    "plt.ylabel('Ocurrences')\n",
    "plt.show()"
   ]
  },
  {
   "cell_type": "code",
   "execution_count": null,
   "id": "7690fc8d-2366-43e9-a982-b3d1a725521a",
   "metadata": {},
   "outputs": [],
   "source": []
  }
 ],
 "metadata": {
  "kernelspec": {
   "display_name": "Python 3 (ipykernel)",
   "language": "python",
   "name": "python3"
  },
  "language_info": {
   "codemirror_mode": {
    "name": "ipython",
    "version": 3
   },
   "file_extension": ".py",
   "mimetype": "text/x-python",
   "name": "python",
   "nbconvert_exporter": "python",
   "pygments_lexer": "ipython3",
   "version": "3.9.7"
  }
 },
 "nbformat": 4,
 "nbformat_minor": 5
}
