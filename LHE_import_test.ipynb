{
 "cells": [
  {
   "cell_type": "code",
   "execution_count": 1,
   "id": "0ffb06a2-4699-417f-92a7-e5c9de9d98fa",
   "metadata": {},
   "outputs": [],
   "source": [
    "from LHEImport.LHEImport import LHEImport as LHEI\n",
    "import pandas as pd\n",
    "import matplotlib.pyplot as plt"
   ]
  },
  {
   "cell_type": "markdown",
   "id": "17679132-fe0f-4475-9d76-53d103283f81",
   "metadata": {},
   "source": [
    "# t t~"
   ]
  },
  {
   "cell_type": "code",
   "execution_count": null,
   "id": "7a735de2-92e0-4993-b982-b84d0ba44885",
   "metadata": {},
   "outputs": [],
   "source": [
    "numcollisions = 10\n",
    "particles = []\n",
    "\n",
    "# index = 0\n",
    "for i in range(0,numcollisions):\n",
    "    event, final_particles, init = LHEI('event_files/ttZ_run01.lhe',i).parse()\n",
    "    for j in range(0, len(final_particles)):\n",
    "        final_particles[j].__dict__['collision'] = i\n",
    "  #      np[j].__dict__['index'] = index\n",
    "        particles.append(final_particles[j].__dict__)\n",
    "  #      index += 1\n",
    "\n",
    "df = pd.DataFrame(particles)\n",
    "df.keys()\n",
    "tbars =df[df['pdgid'] == -6]\n",
    "tbars[['px', 'py', 'pz', 'energy']]"
   ]
  },
  {
   "cell_type": "code",
   "execution_count": null,
   "id": "3f0d35b0-a116-41ab-b164-b588833ba52b",
   "metadata": {},
   "outputs": [],
   "source": []
  },
  {
   "cell_type": "code",
   "execution_count": null,
   "id": "fcb44262-53e9-4c89-a5a5-54e8282491ec",
   "metadata": {},
   "outputs": [],
   "source": [
    "plt.hist(tbars['energy'])\n",
    "plt.xlabel('Energy GeV')\n",
    "plt.show()"
   ]
  },
  {
   "cell_type": "markdown",
   "id": "aea2aa16-c82c-4745-a08f-72b5ca4fb787",
   "metadata": {},
   "source": [
    "# ttZ"
   ]
  },
  {
   "cell_type": "code",
   "execution_count": null,
   "id": "e35118fc-c726-43df-8420-8dc531270e69",
   "metadata": {},
   "outputs": [],
   "source": [
    "numcollisions = 100\n",
    "ttz_particles = []\n",
    "\n",
    "\n",
    "# index = 0\n",
    "for i in range(0,numcollisions):\n",
    "    event, final_particles = LHEI('event_files/ttZ_events.lhe',i).parse()\n",
    "    for j in range(0, len(final_particles)):\n",
    "        final_particles[j].__dict__['collision'] = i\n",
    "  #      np[j].__dict__['index'] = index\n",
    "        ttz_particles.append(final_particles[j].__dict__)\n",
    "  #      index += 1\n",
    "\n",
    "df = pd.DataFrame(ttz_particles)\n",
    "tbars =df[df['pdgid'] == -6]\n",
    "tbars[['px', 'py', 'pz', 'energy']]\n"
   ]
  },
  {
   "cell_type": "code",
   "execution_count": null,
   "id": "544ee9ef-2177-4649-b729-9f0050e93663",
   "metadata": {},
   "outputs": [],
   "source": [
    "plt.hist(tbars['energy'])\n",
    "plt.show()"
   ]
  },
  {
   "cell_type": "markdown",
   "id": "db829410-dca5-4e83-b014-b2a278f84efd",
   "metadata": {},
   "source": [
    "Determining the init block"
   ]
  },
  {
   "cell_type": "code",
   "execution_count": null,
   "id": "fd2f87d0-edc6-47f3-91cd-7325f02de657",
   "metadata": {},
   "outputs": [],
   "source": [
    "from os import listdir\n",
    "from os.path import isfile, join\n",
    "\n",
    "onlyfiles = [join('event_files/',f) for f in listdir('event_files/') if isfile(join('event_files/',f))]\n",
    "print(onlyfiles)\n",
    "\n"
   ]
  },
  {
   "cell_type": "code",
   "execution_count": null,
   "id": "8643bb65-58c9-4dc1-a605-dab658687fcd",
   "metadata": {},
   "outputs": [],
   "source": [
    "rows = []\n",
    "for file in onlyfiles: \n",
    "    a,b,init = LHEI(file).parse()\n",
    "    init['file']=file\n",
    "    rows.append(init)\n",
    "    \n",
    "init_data = pd.DataFrame(rows)\n",
    "init_data"
   ]
  },
  {
   "cell_type": "code",
   "execution_count": 2,
   "id": "010aba40-863b-4b97-8404-90eb3c461b58",
   "metadata": {},
   "outputs": [],
   "source": [
    "data = LHEI('event_files/ttZ_run01.lhe')\n",
    "Data= data.importevents(limit_events=True)"
   ]
  },
  {
   "cell_type": "code",
   "execution_count": 13,
   "id": "d0c796b9-391e-4ebd-a7cf-71efcb1321fc",
   "metadata": {},
   "outputs": [
    {
     "data": {
      "text/html": [
       "<div>\n",
       "<style scoped>\n",
       "    .dataframe tbody tr th:only-of-type {\n",
       "        vertical-align: middle;\n",
       "    }\n",
       "\n",
       "    .dataframe tbody tr th {\n",
       "        vertical-align: top;\n",
       "    }\n",
       "\n",
       "    .dataframe thead th {\n",
       "        text-align: right;\n",
       "    }\n",
       "</style>\n",
       "<table border=\"1\" class=\"dataframe\">\n",
       "  <thead>\n",
       "    <tr style=\"text-align: right;\">\n",
       "      <th></th>\n",
       "      <th>barcode</th>\n",
       "      <th>pdgid</th>\n",
       "      <th>status</th>\n",
       "      <th>pt</th>\n",
       "      <th>eta</th>\n",
       "      <th>phi</th>\n",
       "      <th>px</th>\n",
       "      <th>py</th>\n",
       "      <th>pz</th>\n",
       "      <th>energy</th>\n",
       "      <th>mass</th>\n",
       "    </tr>\n",
       "  </thead>\n",
       "  <tbody>\n",
       "    <tr>\n",
       "      <th>0</th>\n",
       "      <td>1</td>\n",
       "      <td>2</td>\n",
       "      <td>-1</td>\n",
       "      <td>0.000000</td>\n",
       "      <td>inf</td>\n",
       "      <td>0.000000</td>\n",
       "      <td>0.000000</td>\n",
       "      <td>0.000000</td>\n",
       "      <td>466.524206</td>\n",
       "      <td>466.524206</td>\n",
       "      <td>0.000</td>\n",
       "    </tr>\n",
       "    <tr>\n",
       "      <th>1</th>\n",
       "      <td>2</td>\n",
       "      <td>-2</td>\n",
       "      <td>-1</td>\n",
       "      <td>0.000000</td>\n",
       "      <td>-inf</td>\n",
       "      <td>0.000000</td>\n",
       "      <td>-0.000000</td>\n",
       "      <td>-0.000000</td>\n",
       "      <td>-652.751812</td>\n",
       "      <td>652.751812</td>\n",
       "      <td>0.000</td>\n",
       "    </tr>\n",
       "    <tr>\n",
       "      <th>2</th>\n",
       "      <td>3</td>\n",
       "      <td>6</td>\n",
       "      <td>1</td>\n",
       "      <td>454.726833</td>\n",
       "      <td>-0.006702</td>\n",
       "      <td>1.516153</td>\n",
       "      <td>-24.835452</td>\n",
       "      <td>454.048118</td>\n",
       "      <td>-3.047675</td>\n",
       "      <td>486.533433</td>\n",
       "      <td>173.000</td>\n",
       "    </tr>\n",
       "    <tr>\n",
       "      <th>3</th>\n",
       "      <td>4</td>\n",
       "      <td>-6</td>\n",
       "      <td>1</td>\n",
       "      <td>46.849924</td>\n",
       "      <td>-0.516245</td>\n",
       "      <td>-1.054823</td>\n",
       "      <td>23.114915</td>\n",
       "      <td>-40.750657</td>\n",
       "      <td>-25.274741</td>\n",
       "      <td>181.004773</td>\n",
       "      <td>173.000</td>\n",
       "    </tr>\n",
       "    <tr>\n",
       "      <th>4</th>\n",
       "      <td>5</td>\n",
       "      <td>23</td>\n",
       "      <td>1</td>\n",
       "      <td>413.301041</td>\n",
       "      <td>-0.373326</td>\n",
       "      <td>-1.566633</td>\n",
       "      <td>1.720537</td>\n",
       "      <td>-413.297460</td>\n",
       "      <td>-157.905189</td>\n",
       "      <td>451.737812</td>\n",
       "      <td>91.188</td>\n",
       "    </tr>\n",
       "  </tbody>\n",
       "</table>\n",
       "</div>"
      ],
      "text/plain": [
       "   barcode  pdgid  status          pt       eta       phi         px  \\\n",
       "0        1      2      -1    0.000000       inf  0.000000   0.000000   \n",
       "1        2     -2      -1    0.000000      -inf  0.000000  -0.000000   \n",
       "2        3      6       1  454.726833 -0.006702  1.516153 -24.835452   \n",
       "3        4     -6       1   46.849924 -0.516245 -1.054823  23.114915   \n",
       "4        5     23       1  413.301041 -0.373326 -1.566633   1.720537   \n",
       "\n",
       "           py          pz      energy     mass  \n",
       "0    0.000000  466.524206  466.524206    0.000  \n",
       "1   -0.000000 -652.751812  652.751812    0.000  \n",
       "2  454.048118   -3.047675  486.533433  173.000  \n",
       "3  -40.750657  -25.274741  181.004773  173.000  \n",
       "4 -413.297460 -157.905189  451.737812   91.188  "
      ]
     },
     "execution_count": 13,
     "metadata": {},
     "output_type": "execute_result"
    }
   ],
   "source": [
    "rows = []\n",
    "particles = Data['eventdata'][1]['final_particles']\n",
    "for particle in particles:\n",
    "    rows.append(particle.__dict__)\n",
    "df2 = pd.DataFrame(rows)\n",
    "df2"
   ]
  },
  {
   "cell_type": "code",
   "execution_count": 14,
   "id": "8b68b9af-f32d-4b8c-be2c-99b01bd987ae",
   "metadata": {},
   "outputs": [
    {
     "data": {
      "text/html": [
       "<div>\n",
       "<style scoped>\n",
       "    .dataframe tbody tr th:only-of-type {\n",
       "        vertical-align: middle;\n",
       "    }\n",
       "\n",
       "    .dataframe tbody tr th {\n",
       "        vertical-align: top;\n",
       "    }\n",
       "\n",
       "    .dataframe thead th {\n",
       "        text-align: right;\n",
       "    }\n",
       "</style>\n",
       "<table border=\"1\" class=\"dataframe\">\n",
       "  <thead>\n",
       "    <tr style=\"text-align: right;\">\n",
       "      <th></th>\n",
       "      <th>0</th>\n",
       "    </tr>\n",
       "  </thead>\n",
       "  <tbody>\n",
       "    <tr>\n",
       "      <th>0</th>\n",
       "      <td>Particle 1, PDGID2</td>\n",
       "    </tr>\n",
       "    <tr>\n",
       "      <th>1</th>\n",
       "      <td>Particle 2, PDGID-2</td>\n",
       "    </tr>\n",
       "    <tr>\n",
       "      <th>2</th>\n",
       "      <td>Particle 3, PDGID6</td>\n",
       "    </tr>\n",
       "    <tr>\n",
       "      <th>3</th>\n",
       "      <td>Particle 4, PDGID-6</td>\n",
       "    </tr>\n",
       "    <tr>\n",
       "      <th>4</th>\n",
       "      <td>Particle 5, PDGID23</td>\n",
       "    </tr>\n",
       "  </tbody>\n",
       "</table>\n",
       "</div>"
      ],
      "text/plain": [
       "                     0\n",
       "0   Particle 1, PDGID2\n",
       "1  Particle 2, PDGID-2\n",
       "2   Particle 3, PDGID6\n",
       "3  Particle 4, PDGID-6\n",
       "4  Particle 5, PDGID23"
      ]
     },
     "execution_count": 14,
     "metadata": {},
     "output_type": "execute_result"
    }
   ],
   "source": [
    "df1 = pd.DataFrame(Data['stats'], index=[0])\n",
    "df2 = pd.DataFrame(Data['eventdata'][1]['final_particles'])\n",
    "df2"
   ]
  },
  {
   "cell_type": "code",
   "execution_count": null,
   "id": "298a5e02-c7f6-46e3-99f1-70cd3ca16883",
   "metadata": {},
   "outputs": [],
   "source": []
  }
 ],
 "metadata": {
  "kernelspec": {
   "display_name": "Python 3 (ipykernel)",
   "language": "python",
   "name": "python3"
  },
  "language_info": {
   "codemirror_mode": {
    "name": "ipython",
    "version": 3
   },
   "file_extension": ".py",
   "mimetype": "text/x-python",
   "name": "python",
   "nbconvert_exporter": "python",
   "pygments_lexer": "ipython3",
   "version": "3.9.7"
  }
 },
 "nbformat": 4,
 "nbformat_minor": 5
}
