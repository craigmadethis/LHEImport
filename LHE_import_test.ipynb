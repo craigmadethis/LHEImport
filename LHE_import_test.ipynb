{
 "cells": [
  {
   "cell_type": "code",
   "execution_count": 4,
   "id": "0ffb06a2-4699-417f-92a7-e5c9de9d98fa",
   "metadata": {},
   "outputs": [],
   "source": [
    "from LHEImport.LHEImport import LHEImport as LHEI\n",
    "import pandas as pd\n",
    "import matplotlib.pyplot as plt"
   ]
  },
  {
   "cell_type": "markdown",
   "id": "17679132-fe0f-4475-9d76-53d103283f81",
   "metadata": {},
   "source": [
    "# t t~"
   ]
  },
  {
   "cell_type": "code",
   "execution_count": 2,
   "id": "7a735de2-92e0-4993-b982-b84d0ba44885",
   "metadata": {},
   "outputs": [
    {
     "ename": "TypeError",
     "evalue": "__init__() takes 2 positional arguments but 3 were given",
     "output_type": "error",
     "traceback": [
      "\u001b[0;31m---------------------------------------------------------------------------\u001b[0m",
      "\u001b[0;31mTypeError\u001b[0m                                 Traceback (most recent call last)",
      "\u001b[0;32m/tmp/ipykernel_19044/2736806626.py\u001b[0m in \u001b[0;36m<module>\u001b[0;34m\u001b[0m\n\u001b[1;32m      4\u001b[0m \u001b[0;31m# index = 0\u001b[0m\u001b[0;34m\u001b[0m\u001b[0;34m\u001b[0m\u001b[0m\n\u001b[1;32m      5\u001b[0m \u001b[0;32mfor\u001b[0m \u001b[0mi\u001b[0m \u001b[0;32min\u001b[0m \u001b[0mrange\u001b[0m\u001b[0;34m(\u001b[0m\u001b[0;36m0\u001b[0m\u001b[0;34m,\u001b[0m\u001b[0mnumcollisions\u001b[0m\u001b[0;34m)\u001b[0m\u001b[0;34m:\u001b[0m\u001b[0;34m\u001b[0m\u001b[0;34m\u001b[0m\u001b[0m\n\u001b[0;32m----> 6\u001b[0;31m     \u001b[0mevent\u001b[0m\u001b[0;34m,\u001b[0m \u001b[0mfinal_particles\u001b[0m\u001b[0;34m,\u001b[0m \u001b[0minit\u001b[0m \u001b[0;34m=\u001b[0m \u001b[0mLHEI\u001b[0m\u001b[0;34m(\u001b[0m\u001b[0;34m'event_files/ttZ_run01.lhe'\u001b[0m\u001b[0;34m,\u001b[0m\u001b[0mi\u001b[0m\u001b[0;34m)\u001b[0m\u001b[0;34m.\u001b[0m\u001b[0mparse\u001b[0m\u001b[0;34m(\u001b[0m\u001b[0;34m)\u001b[0m\u001b[0;34m\u001b[0m\u001b[0;34m\u001b[0m\u001b[0m\n\u001b[0m\u001b[1;32m      7\u001b[0m     \u001b[0;32mfor\u001b[0m \u001b[0mj\u001b[0m \u001b[0;32min\u001b[0m \u001b[0mrange\u001b[0m\u001b[0;34m(\u001b[0m\u001b[0;36m0\u001b[0m\u001b[0;34m,\u001b[0m \u001b[0mlen\u001b[0m\u001b[0;34m(\u001b[0m\u001b[0mfinal_particles\u001b[0m\u001b[0;34m)\u001b[0m\u001b[0;34m)\u001b[0m\u001b[0;34m:\u001b[0m\u001b[0;34m\u001b[0m\u001b[0;34m\u001b[0m\u001b[0m\n\u001b[1;32m      8\u001b[0m         \u001b[0mfinal_particles\u001b[0m\u001b[0;34m[\u001b[0m\u001b[0mj\u001b[0m\u001b[0;34m]\u001b[0m\u001b[0;34m.\u001b[0m\u001b[0m__dict__\u001b[0m\u001b[0;34m[\u001b[0m\u001b[0;34m'collision'\u001b[0m\u001b[0;34m]\u001b[0m \u001b[0;34m=\u001b[0m \u001b[0mi\u001b[0m\u001b[0;34m\u001b[0m\u001b[0;34m\u001b[0m\u001b[0m\n",
      "\u001b[0;31mTypeError\u001b[0m: __init__() takes 2 positional arguments but 3 were given"
     ]
    }
   ],
   "source": [
    "numcollisions = 10\n",
    "particles = []\n",
    "\n",
    "# index = 0\n",
    "for i in range(0,numcollisions):\n",
    "    event, final_particles, init = LHEI('event_files/ttZ_run01.lhe',i).parse()\n",
    "    for j in range(0, len(final_particles)):\n",
    "        final_particles[j].__dict__['collision'] = i\n",
    "  #      np[j].__dict__['index'] = index\n",
    "        particles.append(final_particles[j].__dict__)\n",
    "  #      index += 1\n",
    "\n",
    "df = pd.DataFrame(particles)\n",
    "df.keys()\n",
    "tbars =df[df['pdgid'] == -6]\n",
    "tbars[['px', 'py', 'pz', 'energy']]"
   ]
  },
  {
   "cell_type": "code",
   "execution_count": null,
   "id": "3f0d35b0-a116-41ab-b164-b588833ba52b",
   "metadata": {},
   "outputs": [],
   "source": []
  },
  {
   "cell_type": "code",
   "execution_count": 3,
   "id": "fcb44262-53e9-4c89-a5a5-54e8282491ec",
   "metadata": {},
   "outputs": [
    {
     "ename": "NameError",
     "evalue": "name 'tbars' is not defined",
     "output_type": "error",
     "traceback": [
      "\u001b[0;31m---------------------------------------------------------------------------\u001b[0m",
      "\u001b[0;31mNameError\u001b[0m                                 Traceback (most recent call last)",
      "\u001b[0;32m/tmp/ipykernel_19044/142210765.py\u001b[0m in \u001b[0;36m<module>\u001b[0;34m\u001b[0m\n\u001b[0;32m----> 1\u001b[0;31m \u001b[0mplt\u001b[0m\u001b[0;34m.\u001b[0m\u001b[0mhist\u001b[0m\u001b[0;34m(\u001b[0m\u001b[0mtbars\u001b[0m\u001b[0;34m[\u001b[0m\u001b[0;34m'energy'\u001b[0m\u001b[0;34m]\u001b[0m\u001b[0;34m)\u001b[0m\u001b[0;34m\u001b[0m\u001b[0;34m\u001b[0m\u001b[0m\n\u001b[0m\u001b[1;32m      2\u001b[0m \u001b[0mplt\u001b[0m\u001b[0;34m.\u001b[0m\u001b[0mxlabel\u001b[0m\u001b[0;34m(\u001b[0m\u001b[0;34m'Energy GeV'\u001b[0m\u001b[0;34m)\u001b[0m\u001b[0;34m\u001b[0m\u001b[0;34m\u001b[0m\u001b[0m\n\u001b[1;32m      3\u001b[0m \u001b[0mplt\u001b[0m\u001b[0;34m.\u001b[0m\u001b[0mshow\u001b[0m\u001b[0;34m(\u001b[0m\u001b[0;34m)\u001b[0m\u001b[0;34m\u001b[0m\u001b[0;34m\u001b[0m\u001b[0m\n",
      "\u001b[0;31mNameError\u001b[0m: name 'tbars' is not defined"
     ]
    }
   ],
   "source": [
    "plt.hist(tbars['energy'])\n",
    "plt.xlabel('Energy GeV')\n",
    "plt.show()"
   ]
  },
  {
   "cell_type": "markdown",
   "id": "aea2aa16-c82c-4745-a08f-72b5ca4fb787",
   "metadata": {},
   "source": [
    "# ttZ"
   ]
  },
  {
   "cell_type": "code",
   "execution_count": 4,
   "id": "e35118fc-c726-43df-8420-8dc531270e69",
   "metadata": {},
   "outputs": [
    {
     "ename": "TypeError",
     "evalue": "__init__() takes 2 positional arguments but 3 were given",
     "output_type": "error",
     "traceback": [
      "\u001b[0;31m---------------------------------------------------------------------------\u001b[0m",
      "\u001b[0;31mTypeError\u001b[0m                                 Traceback (most recent call last)",
      "\u001b[0;32m/tmp/ipykernel_19044/1407479398.py\u001b[0m in \u001b[0;36m<module>\u001b[0;34m\u001b[0m\n\u001b[1;32m      5\u001b[0m \u001b[0;31m# index = 0\u001b[0m\u001b[0;34m\u001b[0m\u001b[0;34m\u001b[0m\u001b[0m\n\u001b[1;32m      6\u001b[0m \u001b[0;32mfor\u001b[0m \u001b[0mi\u001b[0m \u001b[0;32min\u001b[0m \u001b[0mrange\u001b[0m\u001b[0;34m(\u001b[0m\u001b[0;36m0\u001b[0m\u001b[0;34m,\u001b[0m\u001b[0mnumcollisions\u001b[0m\u001b[0;34m)\u001b[0m\u001b[0;34m:\u001b[0m\u001b[0;34m\u001b[0m\u001b[0;34m\u001b[0m\u001b[0m\n\u001b[0;32m----> 7\u001b[0;31m     \u001b[0mevent\u001b[0m\u001b[0;34m,\u001b[0m \u001b[0mfinal_particles\u001b[0m \u001b[0;34m=\u001b[0m \u001b[0mLHEI\u001b[0m\u001b[0;34m(\u001b[0m\u001b[0;34m'event_files/ttZ_events.lhe'\u001b[0m\u001b[0;34m,\u001b[0m\u001b[0mi\u001b[0m\u001b[0;34m)\u001b[0m\u001b[0;34m.\u001b[0m\u001b[0mparse\u001b[0m\u001b[0;34m(\u001b[0m\u001b[0;34m)\u001b[0m\u001b[0;34m\u001b[0m\u001b[0;34m\u001b[0m\u001b[0m\n\u001b[0m\u001b[1;32m      8\u001b[0m     \u001b[0;32mfor\u001b[0m \u001b[0mj\u001b[0m \u001b[0;32min\u001b[0m \u001b[0mrange\u001b[0m\u001b[0;34m(\u001b[0m\u001b[0;36m0\u001b[0m\u001b[0;34m,\u001b[0m \u001b[0mlen\u001b[0m\u001b[0;34m(\u001b[0m\u001b[0mfinal_particles\u001b[0m\u001b[0;34m)\u001b[0m\u001b[0;34m)\u001b[0m\u001b[0;34m:\u001b[0m\u001b[0;34m\u001b[0m\u001b[0;34m\u001b[0m\u001b[0m\n\u001b[1;32m      9\u001b[0m         \u001b[0mfinal_particles\u001b[0m\u001b[0;34m[\u001b[0m\u001b[0mj\u001b[0m\u001b[0;34m]\u001b[0m\u001b[0;34m.\u001b[0m\u001b[0m__dict__\u001b[0m\u001b[0;34m[\u001b[0m\u001b[0;34m'collision'\u001b[0m\u001b[0;34m]\u001b[0m \u001b[0;34m=\u001b[0m \u001b[0mi\u001b[0m\u001b[0;34m\u001b[0m\u001b[0;34m\u001b[0m\u001b[0m\n",
      "\u001b[0;31mTypeError\u001b[0m: __init__() takes 2 positional arguments but 3 were given"
     ]
    }
   ],
   "source": [
    "numcollisions = 100\n",
    "ttz_particles = []\n",
    "\n",
    "\n",
    "# index = 0\n",
    "for i in range(0,numcollisions):\n",
    "    event, final_particles = LHEI('event_files/ttZ_events.lhe',i).parse()\n",
    "    for j in range(0, len(final_particles)):\n",
    "        final_particles[j].__dict__['collision'] = i\n",
    "  #      np[j].__dict__['index'] = index\n",
    "        ttz_particles.append(final_particles[j].__dict__)\n",
    "  #      index += 1\n",
    "\n",
    "df = pd.DataFrame(ttz_particles)\n",
    "tbars =df[df['pdgid'] == -6]\n",
    "tbars[['px', 'py', 'pz', 'energy']]\n"
   ]
  },
  {
   "cell_type": "code",
   "execution_count": 5,
   "id": "544ee9ef-2177-4649-b729-9f0050e93663",
   "metadata": {},
   "outputs": [
    {
     "ename": "NameError",
     "evalue": "name 'tbars' is not defined",
     "output_type": "error",
     "traceback": [
      "\u001b[0;31m---------------------------------------------------------------------------\u001b[0m",
      "\u001b[0;31mNameError\u001b[0m                                 Traceback (most recent call last)",
      "\u001b[0;32m/tmp/ipykernel_19044/1697913042.py\u001b[0m in \u001b[0;36m<module>\u001b[0;34m\u001b[0m\n\u001b[0;32m----> 1\u001b[0;31m \u001b[0mplt\u001b[0m\u001b[0;34m.\u001b[0m\u001b[0mhist\u001b[0m\u001b[0;34m(\u001b[0m\u001b[0mtbars\u001b[0m\u001b[0;34m[\u001b[0m\u001b[0;34m'energy'\u001b[0m\u001b[0;34m]\u001b[0m\u001b[0;34m)\u001b[0m\u001b[0;34m\u001b[0m\u001b[0;34m\u001b[0m\u001b[0m\n\u001b[0m\u001b[1;32m      2\u001b[0m \u001b[0mplt\u001b[0m\u001b[0;34m.\u001b[0m\u001b[0mshow\u001b[0m\u001b[0;34m(\u001b[0m\u001b[0;34m)\u001b[0m\u001b[0;34m\u001b[0m\u001b[0;34m\u001b[0m\u001b[0m\n",
      "\u001b[0;31mNameError\u001b[0m: name 'tbars' is not defined"
     ]
    }
   ],
   "source": [
    "plt.hist(tbars['energy'])\n",
    "plt.show()"
   ]
  },
  {
   "cell_type": "markdown",
   "id": "db829410-dca5-4e83-b014-b2a278f84efd",
   "metadata": {},
   "source": [
    "Determining the init block"
   ]
  },
  {
   "cell_type": "code",
   "execution_count": 6,
   "id": "fd2f87d0-edc6-47f3-91cd-7325f02de657",
   "metadata": {},
   "outputs": [
    {
     "name": "stdout",
     "output_type": "stream",
     "text": [
      "['event_files/ttZ_run01.lhe', 'event_files/ttZ_run02.lhe', 'event_files/ttZ_run03.lhe', 'event_files/tt_events.lhe', 'event_files/Untitled.ipynb']\n"
     ]
    }
   ],
   "source": [
    "from os import listdir\n",
    "from os.path import isfile, join\n",
    "\n",
    "onlyfiles = [join('event_files/',f) for f in listdir('event_files/') if isfile(join('event_files/',f))]\n",
    "print(onlyfiles)\n",
    "\n"
   ]
  },
  {
   "cell_type": "code",
   "execution_count": 7,
   "id": "8643bb65-58c9-4dc1-a605-dab658687fcd",
   "metadata": {},
   "outputs": [
    {
     "ename": "AttributeError",
     "evalue": "'LHEImport' object has no attribute 'parse'",
     "output_type": "error",
     "traceback": [
      "\u001b[0;31m---------------------------------------------------------------------------\u001b[0m",
      "\u001b[0;31mAttributeError\u001b[0m                            Traceback (most recent call last)",
      "\u001b[0;32m/tmp/ipykernel_19044/2780291286.py\u001b[0m in \u001b[0;36m<module>\u001b[0;34m\u001b[0m\n\u001b[1;32m      1\u001b[0m \u001b[0mrows\u001b[0m \u001b[0;34m=\u001b[0m \u001b[0;34m[\u001b[0m\u001b[0;34m]\u001b[0m\u001b[0;34m\u001b[0m\u001b[0;34m\u001b[0m\u001b[0m\n\u001b[1;32m      2\u001b[0m \u001b[0;32mfor\u001b[0m \u001b[0mfile\u001b[0m \u001b[0;32min\u001b[0m \u001b[0monlyfiles\u001b[0m\u001b[0;34m:\u001b[0m\u001b[0;34m\u001b[0m\u001b[0;34m\u001b[0m\u001b[0m\n\u001b[0;32m----> 3\u001b[0;31m     \u001b[0ma\u001b[0m\u001b[0;34m,\u001b[0m\u001b[0mb\u001b[0m\u001b[0;34m,\u001b[0m\u001b[0minit\u001b[0m \u001b[0;34m=\u001b[0m \u001b[0mLHEI\u001b[0m\u001b[0;34m(\u001b[0m\u001b[0mfile\u001b[0m\u001b[0;34m)\u001b[0m\u001b[0;34m.\u001b[0m\u001b[0mparse\u001b[0m\u001b[0;34m(\u001b[0m\u001b[0;34m)\u001b[0m\u001b[0;34m\u001b[0m\u001b[0;34m\u001b[0m\u001b[0m\n\u001b[0m\u001b[1;32m      4\u001b[0m     \u001b[0minit\u001b[0m\u001b[0;34m[\u001b[0m\u001b[0;34m'file'\u001b[0m\u001b[0;34m]\u001b[0m\u001b[0;34m=\u001b[0m\u001b[0mfile\u001b[0m\u001b[0;34m\u001b[0m\u001b[0;34m\u001b[0m\u001b[0m\n\u001b[1;32m      5\u001b[0m     \u001b[0mrows\u001b[0m\u001b[0;34m.\u001b[0m\u001b[0mappend\u001b[0m\u001b[0;34m(\u001b[0m\u001b[0minit\u001b[0m\u001b[0;34m)\u001b[0m\u001b[0;34m\u001b[0m\u001b[0;34m\u001b[0m\u001b[0m\n",
      "\u001b[0;31mAttributeError\u001b[0m: 'LHEImport' object has no attribute 'parse'"
     ]
    }
   ],
   "source": [
    "rows = []\n",
    "for file in onlyfiles: \n",
    "    a,b,init = LHEI(file).parse()\n",
    "    init['file']=file\n",
    "    rows.append(init)\n",
    "    \n",
    "init_data = pd.DataFrame(rows)\n",
    "init_data"
   ]
  },
  {
   "cell_type": "code",
   "execution_count": 19,
   "id": "010aba40-863b-4b97-8404-90eb3c461b58",
   "metadata": {},
   "outputs": [],
   "source": [
    "data = LHEI('event_files/ttZ_run01.lhe')\n",
    "Data= data.importevents(limit_events=True)"
   ]
  },
  {
   "cell_type": "code",
   "execution_count": 24,
   "id": "63f48ae4-c48b-4f21-a01a-fd2fb7804b17",
   "metadata": {},
   "outputs": [
    {
     "name": "stdout",
     "output_type": "stream",
     "text": [
      "98\n"
     ]
    }
   ],
   "source": [
    "rows = []\n",
    "print(len(Data['eventdata']))"
   ]
  },
  {
   "cell_type": "code",
   "execution_count": 35,
   "id": "fd45e685-be79-49a0-b31f-35385299ae6d",
   "metadata": {},
   "outputs": [
    {
     "data": {
      "text/html": [
       "<div>\n",
       "<style scoped>\n",
       "    .dataframe tbody tr th:only-of-type {\n",
       "        vertical-align: middle;\n",
       "    }\n",
       "\n",
       "    .dataframe tbody tr th {\n",
       "        vertical-align: top;\n",
       "    }\n",
       "\n",
       "    .dataframe thead th {\n",
       "        text-align: right;\n",
       "    }\n",
       "</style>\n",
       "<table border=\"1\" class=\"dataframe\">\n",
       "  <thead>\n",
       "    <tr style=\"text-align: right;\">\n",
       "      <th></th>\n",
       "      <th>barcode</th>\n",
       "      <th>pdgid</th>\n",
       "      <th>status</th>\n",
       "      <th>pt</th>\n",
       "      <th>eta</th>\n",
       "      <th>phi</th>\n",
       "      <th>px</th>\n",
       "      <th>py</th>\n",
       "      <th>pz</th>\n",
       "      <th>energy</th>\n",
       "      <th>mass</th>\n",
       "    </tr>\n",
       "  </thead>\n",
       "  <tbody>\n",
       "    <tr>\n",
       "      <th>0</th>\n",
       "      <td>1</td>\n",
       "      <td>21</td>\n",
       "      <td>-1</td>\n",
       "      <td>0.000000</td>\n",
       "      <td>inf</td>\n",
       "      <td>0.000000</td>\n",
       "      <td>0.000000</td>\n",
       "      <td>0.000000</td>\n",
       "      <td>57.236659</td>\n",
       "      <td>57.236659</td>\n",
       "      <td>0.000</td>\n",
       "    </tr>\n",
       "    <tr>\n",
       "      <th>1</th>\n",
       "      <td>2</td>\n",
       "      <td>21</td>\n",
       "      <td>-1</td>\n",
       "      <td>0.000000</td>\n",
       "      <td>-inf</td>\n",
       "      <td>0.000000</td>\n",
       "      <td>-0.000000</td>\n",
       "      <td>-0.000000</td>\n",
       "      <td>-2996.445353</td>\n",
       "      <td>2996.445353</td>\n",
       "      <td>0.000</td>\n",
       "    </tr>\n",
       "    <tr>\n",
       "      <th>2</th>\n",
       "      <td>3</td>\n",
       "      <td>6</td>\n",
       "      <td>1</td>\n",
       "      <td>203.168677</td>\n",
       "      <td>-1.554223</td>\n",
       "      <td>-0.778096</td>\n",
       "      <td>-144.707147</td>\n",
       "      <td>-142.609091</td>\n",
       "      <td>-459.166812</td>\n",
       "      <td>531.075016</td>\n",
       "      <td>173.000</td>\n",
       "    </tr>\n",
       "    <tr>\n",
       "      <th>3</th>\n",
       "      <td>4</td>\n",
       "      <td>-6</td>\n",
       "      <td>1</td>\n",
       "      <td>132.233154</td>\n",
       "      <td>-3.382420</td>\n",
       "      <td>1.467611</td>\n",
       "      <td>-13.620293</td>\n",
       "      <td>131.529824</td>\n",
       "      <td>-1944.353348</td>\n",
       "      <td>1956.508254</td>\n",
       "      <td>173.000</td>\n",
       "    </tr>\n",
       "    <tr>\n",
       "      <th>4</th>\n",
       "      <td>5</td>\n",
       "      <td>23</td>\n",
       "      <td>1</td>\n",
       "      <td>158.714613</td>\n",
       "      <td>-1.930849</td>\n",
       "      <td>0.069863</td>\n",
       "      <td>158.327440</td>\n",
       "      <td>11.079267</td>\n",
       "      <td>-535.688534</td>\n",
       "      <td>566.098741</td>\n",
       "      <td>91.188</td>\n",
       "    </tr>\n",
       "    <tr>\n",
       "      <th>...</th>\n",
       "      <td>...</td>\n",
       "      <td>...</td>\n",
       "      <td>...</td>\n",
       "      <td>...</td>\n",
       "      <td>...</td>\n",
       "      <td>...</td>\n",
       "      <td>...</td>\n",
       "      <td>...</td>\n",
       "      <td>...</td>\n",
       "      <td>...</td>\n",
       "      <td>...</td>\n",
       "    </tr>\n",
       "    <tr>\n",
       "      <th>3425</th>\n",
       "      <td>1</td>\n",
       "      <td>21</td>\n",
       "      <td>-1</td>\n",
       "      <td>0.000000</td>\n",
       "      <td>inf</td>\n",
       "      <td>0.000000</td>\n",
       "      <td>0.000000</td>\n",
       "      <td>0.000000</td>\n",
       "      <td>224.620616</td>\n",
       "      <td>224.620616</td>\n",
       "      <td>0.000</td>\n",
       "    </tr>\n",
       "    <tr>\n",
       "      <th>3426</th>\n",
       "      <td>2</td>\n",
       "      <td>21</td>\n",
       "      <td>-1</td>\n",
       "      <td>0.000000</td>\n",
       "      <td>-inf</td>\n",
       "      <td>0.000000</td>\n",
       "      <td>-0.000000</td>\n",
       "      <td>-0.000000</td>\n",
       "      <td>-388.158729</td>\n",
       "      <td>388.158729</td>\n",
       "      <td>0.000</td>\n",
       "    </tr>\n",
       "    <tr>\n",
       "      <th>3427</th>\n",
       "      <td>3</td>\n",
       "      <td>6</td>\n",
       "      <td>1</td>\n",
       "      <td>78.096114</td>\n",
       "      <td>1.074084</td>\n",
       "      <td>-0.987887</td>\n",
       "      <td>42.988385</td>\n",
       "      <td>-65.199706</td>\n",
       "      <td>100.966535</td>\n",
       "      <td>214.993591</td>\n",
       "      <td>173.000</td>\n",
       "    </tr>\n",
       "    <tr>\n",
       "      <th>3428</th>\n",
       "      <td>4</td>\n",
       "      <td>-6</td>\n",
       "      <td>1</td>\n",
       "      <td>20.891285</td>\n",
       "      <td>-2.262471</td>\n",
       "      <td>0.905633</td>\n",
       "      <td>-12.893846</td>\n",
       "      <td>16.437594</td>\n",
       "      <td>-99.261894</td>\n",
       "      <td>200.545180</td>\n",
       "      <td>173.000</td>\n",
       "    </tr>\n",
       "    <tr>\n",
       "      <th>3429</th>\n",
       "      <td>5</td>\n",
       "      <td>23</td>\n",
       "      <td>1</td>\n",
       "      <td>57.301177</td>\n",
       "      <td>-1.781032</td>\n",
       "      <td>1.017847</td>\n",
       "      <td>-30.094540</td>\n",
       "      <td>48.762112</td>\n",
       "      <td>-165.242754</td>\n",
       "      <td>197.240573</td>\n",
       "      <td>91.188</td>\n",
       "    </tr>\n",
       "  </tbody>\n",
       "</table>\n",
       "<p>3430 rows × 11 columns</p>\n",
       "</div>"
      ],
      "text/plain": [
       "      barcode  pdgid  status          pt       eta       phi          px  \\\n",
       "0           1     21      -1    0.000000       inf  0.000000    0.000000   \n",
       "1           2     21      -1    0.000000      -inf  0.000000   -0.000000   \n",
       "2           3      6       1  203.168677 -1.554223 -0.778096 -144.707147   \n",
       "3           4     -6       1  132.233154 -3.382420  1.467611  -13.620293   \n",
       "4           5     23       1  158.714613 -1.930849  0.069863  158.327440   \n",
       "...       ...    ...     ...         ...       ...       ...         ...   \n",
       "3425        1     21      -1    0.000000       inf  0.000000    0.000000   \n",
       "3426        2     21      -1    0.000000      -inf  0.000000   -0.000000   \n",
       "3427        3      6       1   78.096114  1.074084 -0.987887   42.988385   \n",
       "3428        4     -6       1   20.891285 -2.262471  0.905633  -12.893846   \n",
       "3429        5     23       1   57.301177 -1.781032  1.017847  -30.094540   \n",
       "\n",
       "              py           pz       energy     mass  \n",
       "0       0.000000    57.236659    57.236659    0.000  \n",
       "1      -0.000000 -2996.445353  2996.445353    0.000  \n",
       "2    -142.609091  -459.166812   531.075016  173.000  \n",
       "3     131.529824 -1944.353348  1956.508254  173.000  \n",
       "4      11.079267  -535.688534   566.098741   91.188  \n",
       "...          ...          ...          ...      ...  \n",
       "3425    0.000000   224.620616   224.620616    0.000  \n",
       "3426   -0.000000  -388.158729   388.158729    0.000  \n",
       "3427  -65.199706   100.966535   214.993591  173.000  \n",
       "3428   16.437594   -99.261894   200.545180  173.000  \n",
       "3429   48.762112  -165.242754   197.240573   91.188  \n",
       "\n",
       "[3430 rows x 11 columns]"
      ]
     },
     "execution_count": 35,
     "metadata": {},
     "output_type": "execute_result"
    }
   ],
   "source": [
    "for i in range(0, len(Data['eventdata'])):\n",
    "    particles = Data['eventdata'][i]['final_particles']\n",
    "    for particle in particles:\n",
    "        rows.append(particle.__dict__)\n",
    "df2 = pd.DataFrame(rows)\n",
    "df2"
   ]
  },
  {
   "cell_type": "code",
   "execution_count": 45,
   "id": "c5a022d8-07cf-421b-a663-df3b0ac5d9ce",
   "metadata": {},
   "outputs": [
    {
     "data": {
      "image/png": "[encoded data removed]",
      "text/plain": [
       "<Figure size 432x288 with 1 Axes>"
      ]
     },
     "metadata": {
      "needs_background": "light"
     },
     "output_type": "display_data"
    }
   ],
   "source": [
    "# z total momentum\n",
    "plt.hist(df2[(df2.pdgid==23)].pt)\n",
    "plt.xlabel('$p_t$')\n",
    "plt.ylabel('Ocurrences')\n",
    "plt.show()"
   ]
  },
  {
   "cell_type": "code",
   "execution_count": 10,
   "id": "8b68b9af-f32d-4b8c-be2c-99b01bd987ae",
   "metadata": {},
   "outputs": [
    {
     "data": {
      "text/html": [
       "<div>\n",
       "<style scoped>\n",
       "    .dataframe tbody tr th:only-of-type {\n",
       "        vertical-align: middle;\n",
       "    }\n",
       "\n",
       "    .dataframe tbody tr th {\n",
       "        vertical-align: top;\n",
       "    }\n",
       "\n",
       "    .dataframe thead th {\n",
       "        text-align: right;\n",
       "    }\n",
       "</style>\n",
       "<table border=\"1\" class=\"dataframe\">\n",
       "  <thead>\n",
       "    <tr style=\"text-align: right;\">\n",
       "      <th></th>\n",
       "      <th>0</th>\n",
       "    </tr>\n",
       "  </thead>\n",
       "  <tbody>\n",
       "    <tr>\n",
       "      <th>0</th>\n",
       "      <td>Particle 1, PDGID2</td>\n",
       "    </tr>\n",
       "    <tr>\n",
       "      <th>1</th>\n",
       "      <td>Particle 2, PDGID-2</td>\n",
       "    </tr>\n",
       "    <tr>\n",
       "      <th>2</th>\n",
       "      <td>Particle 3, PDGID6</td>\n",
       "    </tr>\n",
       "    <tr>\n",
       "      <th>3</th>\n",
       "      <td>Particle 4, PDGID-6</td>\n",
       "    </tr>\n",
       "    <tr>\n",
       "      <th>4</th>\n",
       "      <td>Particle 5, PDGID23</td>\n",
       "    </tr>\n",
       "  </tbody>\n",
       "</table>\n",
       "</div>"
      ],
      "text/plain": [
       "                     0\n",
       "0   Particle 1, PDGID2\n",
       "1  Particle 2, PDGID-2\n",
       "2   Particle 3, PDGID6\n",
       "3  Particle 4, PDGID-6\n",
       "4  Particle 5, PDGID23"
      ]
     },
     "execution_count": 10,
     "metadata": {},
     "output_type": "execute_result"
    }
   ],
   "source": [
    "df1 = pd.DataFrame(Data['stats'], index=[0])\n",
    "df2 = pd.DataFrame(Data['eventdata'][1]['final_particles'])\n",
    "df2"
   ]
  },
  {
   "cell_type": "code",
   "execution_count": null,
   "id": "298a5e02-c7f6-46e3-99f1-70cd3ca16883",
   "metadata": {},
   "outputs": [],
   "source": []
  }
 ],
 "metadata": {
  "kernelspec": {
   "display_name": "Python 3 (ipykernel)",
   "language": "python",
   "name": "python3"
  },
  "language_info": {
   "codemirror_mode": {
    "name": "ipython",
    "version": 3
   },
   "file_extension": ".py",
   "mimetype": "text/x-python",
   "name": "python",
   "nbconvert_exporter": "python",
   "pygments_lexer": "ipython3",
   "version": "3.9.7"
  }
 },
 "nbformat": 4,
 "nbformat_minor": 5
}
