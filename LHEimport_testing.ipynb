{
 "cells": [
  {
   "cell_type": "code",
   "execution_count": 2,
   "id": "d306d32d-bf04-4e4d-b507-b8464b7fd9b6",
   "metadata": {},
   "outputs": [],
   "source": [
    "from LHEImport.LHEImport import LHEImport as LHEI\n",
    "import numpy as np\n",
    "import pandas as pd\n",
    "import matplotlib.pyplot as plt\n",
    "plt.style.use([\"science\", \"grid\"])\n",
    "plt.rcParams.update({\"font.family\":\"serif\", \"font.size\":16, \"figure.figsize\":[20,10]})"
   ]
  },
  {
   "cell_type": "code",
   "execution_count": 5,
   "id": "a899c447-6ef3-44a6-bac0-e3fdef414117",
   "metadata": {},
   "outputs": [],
   "source": [
    "data = LHEI('event_files/lhe/ttZ_events_lhapdf_02.lhe')\n",
    "Data = data.importevents()"
   ]
  },
  {
   "cell_type": "code",
   "execution_count": 7,
   "id": "97655f25-91cd-4844-bed6-a74737df8d8a",
   "metadata": {},
   "outputs": [
    {
     "data": {
      "text/plain": [
       "{'beamA': '2212',\n",
       " 'beamB': '2212',\n",
       " 'E BeamA': '6.500000e+03',\n",
       " 'E BeamB': '6.500000e+03',\n",
       " 'PDFgroupA': '0',\n",
       " 'PDFgroupB': '0',\n",
       " 'PDFsetA': '260000',\n",
       " 'PDFsetB': '260000',\n",
       " 'weighting_strat': '-4',\n",
       " 'numProcesses': '1',\n",
       " 'XSec': '5.342990e-01',\n",
       " 'error': '1.271047e-03',\n",
       " 'unit weight': '5.347180e-01',\n",
       " 'procId': '1'}"
      ]
     },
     "execution_count": 7,
     "metadata": {},
     "output_type": "execute_result"
    }
   ],
   "source": [
    "Data['stats']"
   ]
  },
  {
   "cell_type": "code",
   "execution_count": 33,
   "id": "b4d93310-34b9-4bb9-9e9c-6a5398c90890",
   "metadata": {},
   "outputs": [
    {
     "data": {
      "text/html": [
       "<div>\n",
       "<style scoped>\n",
       "    .dataframe tbody tr th:only-of-type {\n",
       "        vertical-align: middle;\n",
       "    }\n",
       "\n",
       "    .dataframe tbody tr th {\n",
       "        vertical-align: top;\n",
       "    }\n",
       "\n",
       "    .dataframe thead th {\n",
       "        text-align: right;\n",
       "    }\n",
       "</style>\n",
       "<table border=\"1\" class=\"dataframe\">\n",
       "  <thead>\n",
       "    <tr style=\"text-align: right;\">\n",
       "      <th></th>\n",
       "      <th>beamA</th>\n",
       "      <th>beamB</th>\n",
       "      <th>E BeamA</th>\n",
       "      <th>E BeamB</th>\n",
       "      <th>PDFgroupA</th>\n",
       "      <th>PDFgroupB</th>\n",
       "      <th>PDFsetA</th>\n",
       "      <th>PDFsetB</th>\n",
       "      <th>weighting_strat</th>\n",
       "      <th>numProcesses</th>\n",
       "      <th>XSec</th>\n",
       "      <th>error</th>\n",
       "      <th>unit weight</th>\n",
       "      <th>procId</th>\n",
       "    </tr>\n",
       "  </thead>\n",
       "  <tbody>\n",
       "    <tr>\n",
       "      <th>1</th>\n",
       "      <td>2212</td>\n",
       "      <td>2212</td>\n",
       "      <td>6.500000e+03</td>\n",
       "      <td>6.500000e+03</td>\n",
       "      <td>0</td>\n",
       "      <td>0</td>\n",
       "      <td>260000</td>\n",
       "      <td>260000</td>\n",
       "      <td>-4</td>\n",
       "      <td>1</td>\n",
       "      <td>5.342990e-01</td>\n",
       "      <td>1.271047e-03</td>\n",
       "      <td>5.347180e-01</td>\n",
       "      <td>1</td>\n",
       "    </tr>\n",
       "  </tbody>\n",
       "</table>\n",
       "</div>"
      ],
      "text/plain": [
       "  beamA beamB       E BeamA       E BeamB PDFgroupA PDFgroupB PDFsetA PDFsetB  \\\n",
       "1  2212  2212  6.500000e+03  6.500000e+03         0         0  260000  260000   \n",
       "\n",
       "  weighting_strat numProcesses          XSec         error   unit weight  \\\n",
       "1              -4            1  5.342990e-01  1.271047e-03  5.347180e-01   \n",
       "\n",
       "  procId  \n",
       "1      1  "
      ]
     },
     "execution_count": 33,
     "metadata": {},
     "output_type": "execute_result"
    }
   ],
   "source": [
    "df =pd.DataFrame(Data['stats'], index=[Data['stats']['procId']])\n",
    "df"
   ]
  },
  {
   "cell_type": "code",
   "execution_count": 3,
   "id": "c8bd6738-9cba-4964-a453-c109bb64b60d",
   "metadata": {},
   "outputs": [],
   "source": [
    "datalist = []\n",
    "for i in range(0, len(Data['eventdata'])):\n",
    "    event_particles = Data['eventdata'][i]['final_particles']\n",
    "    for particle in event_particles:\n",
    "        datalist.append(particle.__dict__)"
   ]
  },
  {
   "cell_type": "code",
   "execution_count": 4,
   "id": "f8293821-f892-4b7f-80d0-6524e2fe749c",
   "metadata": {},
   "outputs": [],
   "source": [
    "# df = pd.DataFrame(datalist)"
   ]
  },
  {
   "cell_type": "code",
   "execution_count": 12,
   "id": "d814bf26-37a2-47d6-891d-8e142c3cedcf",
   "metadata": {},
   "outputs": [],
   "source": [
    "df = pd.read_hdf('event_files/hdf5/ttZ_events_02.h5', 'particles')\n",
    "# df = pd.read_hdf('event_files/hdf5/ttZ_events_02.h5', 'limit_particles')"
   ]
  }
 ],
 "metadata": {
  "kernelspec": {
   "display_name": "Python 3 (ipykernel)",
   "language": "python",
   "name": "python3"
  },
  "language_info": {
   "codemirror_mode": {
    "name": "ipython",
    "version": 3
   },
   "file_extension": ".py",
   "mimetype": "text/x-python",
   "name": "python",
   "nbconvert_exporter": "python",
   "pygments_lexer": "ipython3",
   "version": "3.9.7"
  }
 },
 "nbformat": 4,
 "nbformat_minor": 5
}
