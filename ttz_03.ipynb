{
 "cells": [
  {
   "cell_type": "code",
   "execution_count": 1,
   "id": "d66898dc-80b8-4b8f-b7fc-d16d67845a14",
   "metadata": {},
   "outputs": [],
   "source": [
    "from LHEImport.LHEImport2 import read_lhe, tohdf5\n",
    "import numpy as np\n",
    "import pandas as pd\n",
    "import matplotlib.pyplot as plt\n",
    "import vector\n",
    "# plt styles\n",
    "plt.style.use([\"science\", \"grid\", \"high-contrast\"])\n",
    "plt.rcParams.update({\"font.family\":\"serif\", \"font.size\":20, \"figure.figsize\":[12,8]})\n"
   ]
  },
  {
   "cell_type": "code",
   "execution_count": 2,
   "id": "49eeace4-bd19-40d0-903a-3ddf2e78a81f",
   "metadata": {},
   "outputs": [
    {
     "name": "stderr",
     "output_type": "stream",
     "text": [
      "/home/craig/.local/lib/python3.9/site-packages/pandas/core/generic.py:2703: PerformanceWarning: \n",
      "your performance may suffer as PyTables will pickle object types that it cannot\n",
      "map directly to c-types [inferred_type->mixed,key->block0_values] [items->Index(['event_info', 'particles'], dtype='object')]\n",
      "\n",
      "  pytables.to_hdf(\n"
     ]
    }
   ],
   "source": [
    "data = read_lhe('event_files/lhe/ttZ_events.lhe')\n",
    "data2 = read_lhe('event_files/lhe/ttZ_decayed.lhe')\n",
    "tohdf5(data, 'event_files/hdf5/ttZ', key='undecayed_limited', limit_events=True)\n",
    "tohdf5(data2, 'event_files/hdf5/ttZ', key='decayed_limited', limit_events=True)"
   ]
  },
  {
   "cell_type": "code",
   "execution_count": null,
   "id": "5a20b2f4-e2f2-4736-91fb-00b0663619d5",
   "metadata": {},
   "outputs": [],
   "source": [
    "# tohdf5(data, 'ttz_events_newimport', key='limited', limit_events=True)"
   ]
  },
  {
   "cell_type": "code",
   "execution_count": null,
   "id": "f8988cef-a394-4f72-9822-2071015424db",
   "metadata": {},
   "outputs": [],
   "source": [
    "df = pd.read_hdf('event_files/hdf5/ttZ.h5', 'undecayed_limited')"
   ]
  },
  {
   "cell_type": "code",
   "execution_count": null,
   "id": "564edbe2-c458-4ab8-9834-915bacdd03c0",
   "metadata": {},
   "outputs": [],
   "source": [
    "def deltaphi_tops(particles):\n",
    "    tops=[]\n",
    "    for p in particles:\n",
    "        if p.id==6 or p.id==-6:\n",
    "            tops.append(p)\n",
    "    return tops[0].fourvec.deltaphi(tops[1].fourvec)\n",
    "    \n",
    "def ptot(particles):\n",
    "    ptot2 = 0\n",
    "    for p in particles: \n",
    "        ptot2 += p.pt**2\n",
    "    return np.sqrt(ptot2) \n",
    "\n",
    "df['delta_phi'] = df.apply(lambda r: deltaphi_tops(r['particles']), axis=1)\n",
    "df['ptotal'] = df.apply(lambda r: ptot(r['particles']), axis=1)\n",
    "# df.head()"
   ]
  },
  {
   "cell_type": "code",
   "execution_count": null,
   "id": "ea4ceae7-87c2-4299-8de0-059e97ed6d35",
   "metadata": {},
   "outputs": [],
   "source": []
  },
  {
   "cell_type": "code",
   "execution_count": null,
   "id": "e5cf5529-b2e0-4422-a134-9685b5b6323c",
   "metadata": {},
   "outputs": [],
   "source": [
    "# fig, axes = plt.subplots(2,2)\n",
    "# for param, ax in zip([\"pt\", \"eta\", \"phi\", \"e\" ], axes.flatten()):\n",
    "#     pdgids = np.array([6,-6,23])\n",
    "#     for pdgid in pdgids: \n",
    "#         vals=[]\n",
    "#         for ind, row in df.iterrows():\n",
    "#             for particle in row.particles:\n",
    "#                 if particle.pdgid==pdgid:\n",
    "#                     vals.append(getattr(particle, param))\n",
    "#         ax.hist(vals,histtype='step', bins=30, label=f\"{pdgid}\")\n",
    "#     if param=='e':\n",
    "#         ax.set_title(\"Energy\")\n",
    "#         ax.set_xlabel('Energy $[$GeV$]$', loc='right', fontsize=18)\n",
    "#     elif param=='pt':\n",
    "#         ax.set_title(\"Transverse Momentum - $p_T$\")\n",
    "#         ax.set_xlabel('$p_t$ $[$GeV$]$', loc='right', fontsize=18)\n",
    "#     elif param =='phi':\n",
    "#         ax.title.set_text(\"Azimuthal angle - $\\phi$\")\n",
    "#         ax.set_xlabel('$\\phi$', loc='right', fontsize=18)\n",
    "#     elif param =='eta':\n",
    "#         ax.title.set_text(\"Pseudo-rapidity - $\\eta$\")\n",
    "#         ax.set_xlabel('$\\eta$', loc='right', fontsize=18)\n",
    "#     handles, labels = ax.get_legend_handles_labels()\n",
    "# fig.tight_layout()\n",
    "# fig.legend(handles, labels, loc='lower left', fontsize=16, facecolor='white')\n",
    "    \n",
    "all_pdgids = []\n",
    "for particle in df['particles'][0]:\n",
    "    if particle.pdgid not in all_pdgids and not particle.pdgid==21:\n",
    "        all_pdgids.append(particle.pdgid)\n",
    "fig, axes = plt.subplots(2,2)\n",
    "for param, ax in zip([\"pt\", \"eta\", \"phi\", \"e\" ], axes.flatten()):\n",
    "#     pdgids = np.array([6,-6,23])\n",
    "    pdgids = np.array(all_pdgids)\n",
    "    for pdgid in pdgids: \n",
    "        vals=[]\n",
    "        for ind, row in df.iterrows():\n",
    "            for particle in row.particles:\n",
    "                if particle.pdgid==pdgid:\n",
    "                    vals.append(getattr(particle, param))\n",
    "        ax.hist(vals,histtype='step', bins=30, label=f\"{pdgid}\")\n",
    "    if param=='e':\n",
    "        ax.set_title(\"Energy\")\n",
    "        ax.set_xlabel('Energy $[$GeV$]$', loc='right', fontsize=18)\n",
    "    elif param=='pt':\n",
    "        ax.set_title(\"Transverse Momentum - $p_T$\")\n",
    "        ax.set_xlabel('$p_t$ $[$GeV$]$', loc='right', fontsize=18)\n",
    "    elif param =='phi':\n",
    "        ax.title.set_text(\"Azimuthal angle - $\\phi$\")\n",
    "        ax.set_xlabel('$\\phi$', loc='right', fontsize=18)\n",
    "    elif param =='eta':\n",
    "        ax.title.set_text(\"Pseudo-rapidity - $\\eta$\")\n",
    "        ax.set_xlabel('$\\eta$', loc='right', fontsize=18)\n",
    "    handles, labels = ax.get_legend_handles_labels()\n",
    "fig.tight_layout()\n",
    "fig.legend(handles, labels, loc='lower left', fontsize=16, facecolor='white')\n",
    "\n",
    "\n",
    "fig2, axes2 = plt.subplots(1,2)\n",
    "axes2[0].hist(df['delta_phi'], histtype='step', bins=50)\n",
    "axes2[0].title.set_text('$\\delta \\phi$ for $t \\\\bar{t}$')\n",
    "axes2[0].set_xlabel('$\\delta \\phi$')\n",
    "\n",
    "axes2[1].hist(df['ptotal'], histtype='step', bins=50)\n",
    "axes2[1].title.set_text(\"$p_{\\mathrm{T}}$ for combined $t \\\\bar{t} Z$\")\n",
    "axes2[1].set_xlabel('$p_{\\mathrm{T}} [\\\\text{GeV}]$')\n",
    "fig2.tight_layout()\n",
    "plt.show()"
   ]
  },
  {
   "cell_type": "code",
   "execution_count": null,
   "id": "24cb0c3a-1514-4d8d-958d-a18d2d1fd2e6",
   "metadata": {},
   "outputs": [],
   "source": [
    "# With madspin enabled"
   ]
  },
  {
   "cell_type": "code",
   "execution_count": null,
   "id": "d4205a91-20de-4547-ae76-d74cd855b1db",
   "metadata": {},
   "outputs": [],
   "source": [
    "df2 = pd.read_hdf('event_files/hdf5/ttZ.h5', 'decayed_limited')\n",
    " "
   ]
  },
  {
   "cell_type": "code",
   "execution_count": null,
   "id": "07cb8bab-3eae-43ee-9fe6-fb0b3b230fde",
   "metadata": {},
   "outputs": [],
   "source": [
    "df2['delta_phi'] = df2.apply(lambda r: deltaphi_tops(r['particles']), axis=1)\n",
    "df2['ptotal'] = df2.apply(lambda r: ptot(r['particles']), axis=1)"
   ]
  },
  {
   "cell_type": "code",
   "execution_count": null,
   "id": "c4fc3d84-04fd-4efa-9ef4-7adc2de05554",
   "metadata": {},
   "outputs": [],
   "source": [
    "all_pdgids = []\n",
    "for particle in df2['particles'][0]:\n",
    "    if particle.pdgid not in all_pdgids and not particle.m==0:\n",
    "        all_pdgids.append(particle.pdgid)\n",
    "print(all_pdgids)\n",
    "fig, axes = plt.subplots(2,2)\n",
    "for param, ax in zip([\"pt\", \"eta\", \"phi\", \"e\" ], axes.flatten()):\n",
    "#     pdgids = np.array([6,-6,23])\n",
    "    for pdgid in all_pdgids: \n",
    "        vals=[]\n",
    "        for ind, row in df2.iterrows():\n",
    "            for particle in row.particles:\n",
    "                if particle.pdgid==pdgid:\n",
    "                    vals.append(getattr(particle, param))\n",
    "        ax.hist(vals,histtype='step', bins=30, label=f\"{pdgid}\")\n",
    "    if param=='e':\n",
    "        ax.set_title(\"Energy\")\n",
    "        ax.set_xlabel('Energy $[$GeV$]$', loc='right', fontsize=18)\n",
    "    elif param=='pt':\n",
    "        ax.set_title(\"Transverse Momentum - $p_T$\")\n",
    "        ax.set_xlabel('$p_t$ $[$GeV$]$', loc='right', fontsize=18)\n",
    "    elif param =='phi':\n",
    "        ax.title.set_text(\"Azimuthal angle - $\\phi$\")\n",
    "        ax.set_xlabel('$\\phi$', loc='right', fontsize=18)\n",
    "    elif param =='eta':\n",
    "        ax.title.set_text(\"Pseudo-rapidity - $\\eta$\")\n",
    "        ax.set_xlabel('$\\eta$', loc='right', fontsize=18)\n",
    "    handles, labels = ax.get_legend_handles_labels()\n",
    "fig.tight_layout()\n",
    "fig.legend(handles, labels, loc='lower left', fontsize=16, facecolor='white')\n",
    "    \n",
    "fig2, axes2 = plt.subplots(1,2)\n",
    "axes2[0].hist(df2['delta_phi'], histtype='step', bins=50)\n",
    "axes2[0].title.set_text('$\\delta \\phi$ for $t \\\\bar{t}$')\n",
    "axes2[0].set_xlabel('$\\delta \\phi$')\n",
    "\n",
    "axes2[1].hist(df2['ptotal'], histtype='step', bins=50)\n",
    "axes2[1].title.set_text(\"$p_{\\mathrm{T}}$ for combined $t \\\\bar{t} Z$\")\n",
    "axes2[1].set_xlabel('$p_{\\mathrm{T}} [\\\\text{GeV}]$')\n",
    "fig2.tight_layout()\n",
    "plt.show()"
   ]
  },
  {
   "cell_type": "code",
   "execution_count": null,
   "id": "edf88a1e-b24f-4cae-8949-1b1f2cc5ffeb",
   "metadata": {},
   "outputs": [],
   "source": []
  }
 ],
 "metadata": {
  "kernelspec": {
   "display_name": "Python 3 (ipykernel)",
   "language": "python",
   "name": "python3"
  },
  "language_info": {
   "codemirror_mode": {
    "name": "ipython",
    "version": 3
   },
   "file_extension": ".py",
   "mimetype": "text/x-python",
   "name": "python",
   "nbconvert_exporter": "python",
   "pygments_lexer": "ipython3",
   "version": "3.9.7"
  }
 },
 "nbformat": 4,
 "nbformat_minor": 5
}
