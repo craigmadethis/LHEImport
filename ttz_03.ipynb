{
 "cells": [
  {
   "cell_type": "code",
   "execution_count": 2,
   "id": "d66898dc-80b8-4b8f-b7fc-d16d67845a14",
   "metadata": {},
   "outputs": [],
   "source": [
    "from LHEImport.LHEImport2 import read_lhe, tohdf5\n",
    "import numpy as np\n",
    "import pandas as pd\n",
    "import matplotlib.pyplot as plt\n",
    "import vector\n",
    "# plt styles\n",
    "plt.style.use([\"science\", \"grid\", \"high-contrast\"])\n",
    "plt.rcParams.update({\"font.family\":\"serif\", \"font.size\":20, \"figure.figsize\":[12,8]})\n"
   ]
  },
  {
   "cell_type": "code",
   "execution_count": null,
   "id": "49eeace4-bd19-40d0-903a-3ddf2e78a81f",
   "metadata": {},
   "outputs": [],
   "source": [
    "# data = read_lhe('event_files/lhe/ttZ_events.lhe')\n",
    "# data2 = read_lhe('event_files/lhe/ttZ_decayed.lhe')\n",
    "# tohdf5(data, 'event_files/hdf5/ttZ', key='undecayed_limited', limit_events=True)\n",
    "# tohdf5(data2, 'event_files/hdf5/ttZ', key='decayed_limited', limit_events=True)\n",
    "# data3 = read_lhe('event_files/lhe/ttZ_events.lhe')\n",
    "# tohdf5(data3,'event_files/hdf5/ttZ_weighttest', key='weights_unlimited', limit_events=False)"
   ]
  },
  {
   "cell_type": "code",
   "execution_count": null,
   "id": "5a20b2f4-e2f2-4736-91fb-00b0663619d5",
   "metadata": {},
   "outputs": [],
   "source": [
    "# tohdf5(data, 'ttz_events_newimport', key='limited', limit_events=True)"
   ]
  },
  {
   "cell_type": "code",
   "execution_count": null,
   "id": "f8988cef-a394-4f72-9822-2071015424db",
   "metadata": {},
   "outputs": [],
   "source": [
    "df = pd.read_hdf('event_files/hdf5/ttZ.h5', 'undecayed_limited')\n",
    "# df = pd.read_hdf('event_files/hdf5/ttZ_weighttest.h5', 'weights_unlimited')"
   ]
  },
  {
   "cell_type": "code",
   "execution_count": 3,
   "id": "edc8f0fa-6061-48ab-8db2-70957635a1d2",
   "metadata": {},
   "outputs": [],
   "source": [
    "def deltaphi_tops(particles):\n",
    "    tops=[]\n",
    "    for p in particles:\n",
    "        if p.id==6 or p.id==-6:\n",
    "            tops.append(p)\n",
    "    return tops[0].fourvec.deltaphi(tops[1].fourvec)\n",
    "    \n",
    "\n",
    "def ptot2(particles):\n",
    "    fourvecs=vector.obj(px=0, py=0, pz=0, E=0)\n",
    "    for p in particles: \n",
    "        fourvecs += p.fourvec\n",
    "    return fourvecs.pt"
   ]
  },
  {
   "cell_type": "code",
   "execution_count": null,
   "id": "b93a5f3a-47bc-4ce4-ab82-61c92c4ebde6",
   "metadata": {},
   "outputs": [],
   "source": [
    "df['delta_phi'] = df.apply(lambda r: deltaphi_tops(r['particles']), axis=1)\n",
    "df['ptotal'] = df.apply(lambda r: ptot2(r['particles']), axis=1)\n",
    "df.head()"
   ]
  },
  {
   "cell_type": "code",
   "execution_count": null,
   "id": "e5cf5529-b2e0-4422-a134-9685b5b6323c",
   "metadata": {},
   "outputs": [],
   "source": [
    "all_pdgids = []\n",
    "for particle in df['particles'][0]:\n",
    "    if particle.pdgid not in all_pdgids and not particle.pdgid==21:\n",
    "        all_pdgids.append(particle.pdgid)\n",
    "all_weights=[]\n",
    "for weight in df['weights']:\n",
    "     all_weights.append(weight['1'])\n",
    "fig, axes = plt.subplots(2,2)\n",
    "for param, ax in zip([\"pt\", \"eta\", \"phi\", \"e\" ], axes.flatten()):\n",
    "#     pdgids = np.array([6,-6,23])\n",
    "    pdgids = np.array(all_pdgids)\n",
    "    for pdgid in pdgids: \n",
    "        vals=[]\n",
    "        for ind, row in df.iterrows():\n",
    "            for particle in row.particles:\n",
    "                if particle.pdgid==pdgid:\n",
    "                    vals.append(getattr(particle, param))\n",
    "        ax.hist(vals,histtype='step', bins=20, label=f\"{pdgid}\", \n",
    "                weights=all_weights\n",
    "               )\n",
    "    if param=='e':\n",
    "        ax.set_title(\"Energy\")\n",
    "        ax.set_xlabel('Energy $[$GeV$]$', loc='right', fontsize=18)\n",
    "    elif param=='pt':\n",
    "        ax.set_title(\"Transverse Momentum - $p_T$\")\n",
    "        ax.set_xlabel('$p_t$ $[$GeV$]$', loc='right', fontsize=18)\n",
    "    elif param =='phi':\n",
    "        ax.title.set_text(\"Azimuthal angle - $\\phi$\")\n",
    "        ax.set_xlabel('$\\phi$', loc='right', fontsize=18)\n",
    "    elif param =='eta':\n",
    "        ax.title.set_text(\"Pseudo-rapidity - $\\eta$\")\n",
    "        ax.set_xlabel('$\\eta$', loc='right', fontsize=18)\n",
    "    handles, labels = ax.get_legend_handles_labels()\n",
    "fig.tight_layout()\n",
    "fig.legend(handles, labels, loc='lower left', fontsize=16, facecolor='white')\n",
    "\n",
    "\n",
    "fig2, axes2 = plt.subplots(1,2)\n",
    "axes2[0].hist(df['delta_phi'], histtype='step', bins=20)\n",
    "axes2[0].title.set_text('$\\delta \\phi$ for $t \\\\bar{t}$')\n",
    "axes2[0].set_xlabel('$\\delta \\phi$')\n",
    "\n",
    "axes2[1].hist(df['ptotal'], histtype='step', bins=20)\n",
    "axes2[1].title.set_text(\"$p_{\\mathrm{T}}$ for combined $t \\\\bar{t} Z$\")\n",
    "axes2[1].set_xlabel('$p_{\\mathrm{T}} [\\\\text{GeV}]$')\n",
    "fig2.tight_layout()\n",
    "plt.show()"
   ]
  },
  {
   "cell_type": "markdown",
   "id": "0bf6300e-5959-488a-adad-bad8e5c74507",
   "metadata": {},
   "source": [
    "## Notes\n",
    "What do we see\n",
    "- A correlation between the Energy and transverse momentum. \n",
    "- In the azimuthal angle there is an even distribution between $[-\\pi, \\pi]$\n",
    "- The total momentum of the $t\\bar{t}z$ system is zero\n",
    "- Pseudorapidity is distributed about 0 "
   ]
  },
  {
   "cell_type": "code",
   "execution_count": null,
   "id": "24cb0c3a-1514-4d8d-958d-a18d2d1fd2e6",
   "metadata": {},
   "outputs": [],
   "source": [
    "# With madspin enabled"
   ]
  },
  {
   "cell_type": "code",
   "execution_count": null,
   "id": "d4205a91-20de-4547-ae76-d74cd855b1db",
   "metadata": {},
   "outputs": [],
   "source": [
    "df2 = pd.read_hdf('event_files/hdf5/ttZ.h5', 'decayed_limited')\n",
    " "
   ]
  },
  {
   "cell_type": "code",
   "execution_count": null,
   "id": "07cb8bab-3eae-43ee-9fe6-fb0b3b230fde",
   "metadata": {},
   "outputs": [],
   "source": [
    "df2['delta_phi'] = df2.apply(lambda r: deltaphi_tops(r['particles']), axis=1)\n",
    "df2['ptotal'] = df2.apply(lambda r: ptot2(r['particles']), axis=1)"
   ]
  },
  {
   "cell_type": "code",
   "execution_count": null,
   "id": "9196d741-6b2b-404e-9238-b9d8869092be",
   "metadata": {},
   "outputs": [],
   "source": [
    "# all_pdgids = []\n",
    "# for particle in df2['particles'][0]:\n",
    "#     if not (particle.status==1) and not particle.pdgid in all_pdgids: \n",
    "#         all_pdgids.append(particle.pdgid)\n",
    "# print(all_pdgids)\n",
    "particles=[]\n",
    "for index, row in df2.iterrows():\n",
    "    for particle in row.particles: \n",
    "        particles.append(particle)\n",
    "print(len(particles))\n",
    "df_particles = pd.DataFrame.from_dict(particle.__dict__ for particle in particles)\n",
    "all_pdgids = []\n",
    "for index, row in df_particles.iterrows():\n",
    "    if row.pdgid not in all_pdgids and row.status==1 and row.m!=0:\n",
    "        all_pdgids.append(row.pdgid)\n",
    "print(all_pdgids)"
   ]
  },
  {
   "cell_type": "code",
   "execution_count": null,
   "id": "20958f5c-c324-4a58-9c41-bff6d9b095f3",
   "metadata": {},
   "outputs": [],
   "source": [
    "issue_pdgids=[2,-1]\n",
    "some_pdgids = [5,6,-24,13, -14,11]\n",
    "fig, axes = plt.subplots(2,2)\n",
    "for param, ax in zip([\"pt\", \"eta\", \"phi\", \"e\" ], axes.flatten()):\n",
    "#     pdgids = np.array([6,-6,23])\n",
    "    for pdgid in all_pdgids: \n",
    "        vals=[]\n",
    "        for ind, row in df2.iterrows():\n",
    "            for particle in row.particles:\n",
    "                if particle.pdgid==pdgid and particle.m!=0:\n",
    "                    vals.append(float(getattr(particle, param)))\n",
    "        ax.hist(vals,histtype='step', bins=10, label=f\"{pdgid}\")\n",
    "    if param=='e':\n",
    "        ax.set_title(\"Energy\")\n",
    "        ax.set_xlabel('Energy $[$GeV$]$', loc='right', fontsize=18)\n",
    "    elif param=='pt':\n",
    "        ax.set_title(\"Transverse Momentum - $p_T$\")\n",
    "        ax.set_xlabel('$p_t$ $[$GeV$]$', loc='right', fontsize=18)\n",
    "    elif param =='phi':\n",
    "        ax.title.set_text(\"Azimuthal angle - $\\phi$\")\n",
    "        ax.set_xlabel('$\\phi$', loc='right', fontsize=18)\n",
    "    elif param =='eta':\n",
    "        ax.title.set_text(\"Pseudo-rapidity - $\\eta$\")\n",
    "        ax.set_xlabel('$\\eta$', loc='right', fontsize=18)\n",
    "    handles, labels = ax.get_legend_handles_labels()\n",
    "fig.tight_layout()\n",
    "fig.legend(handles, labels, loc='lower left', fontsize=16, facecolor='white')\n",
    "    \n",
    "fig2, axes2 = plt.subplots(1,2)\n",
    "axes2[0].hist(df2['delta_phi'], histtype='step', bins=10)\n",
    "axes2[0].title.set_text('$\\delta \\phi$ for $t \\\\bar{t}$')\n",
    "axes2[0].set_xlabel('$\\delta \\phi$')\n",
    "\n",
    "axes2[1].hist(df2['ptotal'], histtype='step', bins=10)\n",
    "axes2[1].title.set_text(\"$p_{\\mathrm{T}}$ for combined $t \\\\bar{t} Z$\")\n",
    "axes2[1].set_xlabel('$p_{\\mathrm{T}} [\\\\text{GeV}]$')\n",
    "fig2.tight_layout()\n",
    "plt.show()"
   ]
  },
  {
   "cell_type": "code",
   "execution_count": 2,
   "id": "2b222f7e-d74a-48d7-8a69-2f0e4c3feaed",
   "metadata": {},
   "outputs": [
    {
     "name": "stderr",
     "output_type": "stream",
     "text": [
      "/home/craig/.local/lib/python3.9/site-packages/pandas/core/generic.py:2703: PerformanceWarning: \n",
      "your performance may suffer as PyTables will pickle object types that it cannot\n",
      "map directly to c-types [inferred_type->mixed,key->block0_values] [items->Index(['event_info', 'particles', 'weights'], dtype='object')]\n",
      "\n",
      "  pytables.to_hdf(\n"
     ]
    }
   ],
   "source": [
    "data = read_lhe('event_files/lhe/ttZ_we_zmumu_undecayed.lhe')\n",
    "data2 = read_lhe('event_files/lhe/ttZ_we_zmumu_decayed.lhe')\n",
    "tohdf5(data, 'event_files/hdf5/ttZ_we_zmumu', key='undecayed_limited', limit_events=False)\n",
    "tohdf5(data2, 'event_files/hdf5/ttZ_we_zmumu', key='decayed_limited', limit_events=False)"
   ]
  },
  {
   "cell_type": "code",
   "execution_count": 4,
   "id": "a017c2d3-f78c-4356-b94e-4c81487ecae5",
   "metadata": {},
   "outputs": [],
   "source": [
    "df_undecayed = pd.read_hdf('event_files/hdf5/ttZ_we_zmumu.h5', 'undecayed_limited')\n",
    "df_decayed = pd.read_hdf('event_files/hdf5/ttZ_we_zmumu.h5', 'decayed_limited')"
   ]
  },
  {
   "cell_type": "code",
   "execution_count": 5,
   "id": "9ddbcd13-45ce-499d-9274-b6b0b859478f",
   "metadata": {},
   "outputs": [],
   "source": [
    "\n",
    "df_undecayed['delta_phi'] = df_undecayed.apply(lambda r: deltaphi_tops(r['particles']), axis=1)\n",
    "df_undecayed['ptotal'] = df_undecayed.apply(lambda r: ptot2(r['particles']), axis=1)\n",
    "\n",
    "df_decayed['delta_phi'] = df_decayed.apply(lambda r: deltaphi_tops(r['particles']), axis=1)\n",
    "df_decayed['ptotal'] = df_decayed.apply(lambda r: ptot2(r['particles']), axis=1)"
   ]
  },
  {
   "cell_type": "code",
   "execution_count": null,
   "id": "94a8fe39-036a-433c-9065-0c828e169fe6",
   "metadata": {},
   "outputs": [],
   "source": [
    "df_decayed.head()"
   ]
  },
  {
   "cell_type": "code",
   "execution_count": 17,
   "id": "5d21e41a-aeec-40d4-935e-a49c01b50250",
   "metadata": {},
   "outputs": [
    {
     "name": "stdout",
     "output_type": "stream",
     "text": [
      "[5, -11, 12, -5, 1, -2, -13, 13, 3, -4]\n"
     ]
    }
   ],
   "source": [
    "particles_decayed=[]\n",
    "for index, row in df_decayed.iterrows():\n",
    "    for particle in row.particles: \n",
    "        particles_decayed.append(particle)\n",
    "df_particles_decayed = pd.DataFrame.from_dict(particle.__dict__ for particle in particles_decayed)\n",
    "all_pdgids_decayed = []\n",
    "for index, row in df_particles_decayed.iterrows():\n",
    "    if row.pdgid not in all_pdgids_decayed and row.status==1:\n",
    "        all_pdgids_decayed.append(row.pdgid)\n",
    "print(all_pdgids_decayed)"
   ]
  },
  {
   "cell_type": "code",
   "execution_count": 6,
   "id": "b5a9eed4-c84b-4772-a887-b13ba18e0a9a",
   "metadata": {},
   "outputs": [
    {
     "name": "stdout",
     "output_type": "stream",
     "text": [
      "[6, -6, 23]\n"
     ]
    }
   ],
   "source": [
    "particles_undecayed=[]\n",
    "for index, row in df_undecayed.iterrows():\n",
    "    for particle in row.particles: \n",
    "        particles_undecayed.append(particle)\n",
    "df_particles_undecayed = pd.DataFrame.from_dict(particle.__dict__ for particle in particles_undecayed)\n",
    "all_pdgids_undecayed = []\n",
    "for index, row in df_particles_undecayed.iterrows():\n",
    "    if row.pdgid not in all_pdgids_undecayed and row.status==1:\n",
    "        all_pdgids_undecayed.append(row.pdgid)\n",
    "print(all_pdgids_undecayed)"
   ]
  },
  {
   "cell_type": "code",
   "execution_count": 10,
   "id": "0a839b51-a54c-4675-a0b1-e1cdd75e232a",
   "metadata": {},
   "outputs": [
    {
     "data": {
      "image/png": "[encoded data removed]",
      "text/plain": [
       "<Figure size 864x576 with 1 Axes>"
      ]
     },
     "metadata": {
      "needs_background": "light"
     },
     "output_type": "display_data"
    }
   ],
   "source": [
    "#     pdgids = np.array([6,-6,23])\n",
    "for ind, row in df_decayed.iterrows():\n",
    "    vals =[]\n",
    "    for particle in row.particles:\n",
    "        total = vector.obj(px=0, py=0, pz=0, E=0)\n",
    "        if abs(particle.pdgid)==13:\n",
    "            total += particle.fourvec\n",
    "#         print(total)\n",
    "        vals.append(total.pt)\n",
    "plt.hist(vals,histtype='step', bins=50)\n",
    "plt.show()"
   ]
  },
  {
   "cell_type": "code",
   "execution_count": null,
   "id": "534049b3-de57-4b14-b9b1-ba1df14058bc",
   "metadata": {},
   "outputs": [],
   "source": []
  }
 ],
 "metadata": {
  "kernelspec": {
   "display_name": "Python 3 (ipykernel)",
   "language": "python",
   "name": "python3"
  },
  "language_info": {
   "codemirror_mode": {
    "name": "ipython",
    "version": 3
   },
   "file_extension": ".py",
   "mimetype": "text/x-python",
   "name": "python",
   "nbconvert_exporter": "python",
   "pygments_lexer": "ipython3",
   "version": "3.9.7"
  }
 },
 "nbformat": 4,
 "nbformat_minor": 5
}
