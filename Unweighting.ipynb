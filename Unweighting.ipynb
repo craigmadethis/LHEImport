{
 "cells": [
  {
   "cell_type": "code",
   "execution_count": 11,
   "id": "hybrid-estonia",
   "metadata": {},
   "outputs": [],
   "source": [
    "import numpy as np\n",
    "from matplotlib import pyplot as plt"
   ]
  },
  {
   "cell_type": "code",
   "execution_count": 12,
   "id": "executed-adventure",
   "metadata": {},
   "outputs": [],
   "source": [
    "# generating 10k \"events\" (vals between 1 and 2 ), distribution is gaussian (hence \"normal\" in random)\n",
    "data = np.random.normal(1,2,10000)\n",
    "'''\n",
    "# creating a 2d array of events and weights\n",
    "weights here are generated to create a double peaked gaussian, what we would see for an SM vs EFT histogram.\n",
    "does this by chosing smaller values between (-0.5,0.5) (lim(random) = 0.5), whereas vals a re (0.5,1.5) outside of this interval\n",
    "'''\n",
    "data = np.array([[x, np.random.uniform(0,0.5) if x<0.5 and x >-0.5 else np.random.uniform(0.5,1.5)] for x in data])"
   ]
  },
  {
   "cell_type": "code",
   "execution_count": 13,
   "id": "strategic-spare",
   "metadata": {},
   "outputs": [
    {
     "data": {
      "text/plain": [
       "(array([ 462.,  527.,  508., 1032., 1236., 1282., 1233., 1256., 1208.,\n",
       "        1256.]),\n",
       " array([9.26920321e-05, 1.50078536e-01, 3.00064379e-01, 4.50050223e-01,\n",
       "        6.00036067e-01, 7.50021910e-01, 9.00007754e-01, 1.04999360e+00,\n",
       "        1.19997944e+00, 1.34996529e+00, 1.49995113e+00]),\n",
       " <BarContainer object of 10 artists>)"
      ]
     },
     "execution_count": 13,
     "metadata": {},
     "output_type": "execute_result"
    },
    {
     "data": {
      "image/png": "[encoded data removed]",
      "text/plain": [
       "<Figure size 432x288 with 1 Axes>"
      ]
     },
     "metadata": {
      "needs_background": "light"
     },
     "output_type": "display_data"
    }
   ],
   "source": [
    "plt.hist(data[:,1])"
   ]
  },
  {
   "cell_type": "code",
   "execution_count": 14,
   "id": "loose-apparel",
   "metadata": {},
   "outputs": [
    {
     "data": {
      "image/png": "[encoded data removed]",
      "text/plain": [
       "<Figure size 432x288 with 1 Axes>"
      ]
     },
     "metadata": {
      "needs_background": "light"
     },
     "output_type": "display_data"
    }
   ],
   "source": [
    "# bins\n",
    "bins = np.linspace(-10,10,101)\n",
    "#plotting data\n",
    "_=plt.hist(data[:,0], bins=bins, alpha=0.3, density=True)\n",
    "#plotting data * weights\n",
    "_=plt.hist(data[:,0], bins=bins, weights=data[:,1], alpha=0.3, density=True)\n",
    "\n",
    "'''\n",
    "here we see the double gaussian shape that we would expect\n",
    "'''"
   ]
  },
  {
   "cell_type": "code",
   "execution_count": 15,
   "id": "veterinary-insulin",
   "metadata": {},
   "outputs": [],
   "source": [
    "pseudodata = np.random.choice(data[:,0], size=100000, replace=True, p=data[:,1]/data[:,1].sum())\n"
   ]
  },
  {
   "cell_type": "code",
   "execution_count": 16,
   "id": "impossible-issue",
   "metadata": {},
   "outputs": [
    {
     "data": {
      "image/png": "[encoded data removed]",
      "text/plain": [
       "<Figure size 432x288 with 1 Axes>"
      ]
     },
     "metadata": {
      "needs_background": "light"
     },
     "output_type": "display_data"
    }
   ],
   "source": [
    "_=plt.hist(data[:,0], bins=bins, alpha=0.3, density=True, weights=data[:,1])\n",
    "_=plt.hist(pseudodata, bins=bins, histtype='step', density=True)"
   ]
  },
  {
   "cell_type": "code",
   "execution_count": 17,
   "id": "north-diagnosis",
   "metadata": {},
   "outputs": [],
   "source": [
    "sampled_points = np.array([])"
   ]
  },
  {
   "cell_type": "code",
   "execution_count": 18,
   "id": "lyric-macro",
   "metadata": {},
   "outputs": [],
   "source": [
    "def unweight(data, current_points):\n",
    "    rndm = np.random.uniform(0,1,10000) * max(data[:,1])\n",
    "    selected = np.where(rndm<data[:,1])[0]\n",
    "    current_points = np.append(current_points, data[selected,0])\n",
    "    return current_points"
   ]
  },
  {
   "cell_type": "code",
   "execution_count": 19,
   "id": "going-flood",
   "metadata": {},
   "outputs": [],
   "source": [
    "sampled_points = unweight(data, sampled_points)"
   ]
  },
  {
   "cell_type": "code",
   "execution_count": 25,
   "id": "industrial-stopping",
   "metadata": {},
   "outputs": [],
   "source": [
    "while sampled_points.size < 200000:\n",
    "    sampled_points = unweight(data, sampled_points)"
   ]
  },
  {
   "cell_type": "code",
   "execution_count": 26,
   "id": "coastal-affairs",
   "metadata": {},
   "outputs": [
    {
     "data": {
      "image/png": "[encoded data removed]",
      "text/plain": [
       "<Figure size 432x288 with 1 Axes>"
      ]
     },
     "metadata": {
      "needs_background": "light"
     },
     "output_type": "display_data"
    }
   ],
   "source": [
    "_=plt.hist(data[:,0], bins=bins, alpha=0.3, density=True, weights=data[:,1])\n",
    "_=plt.hist(sampled_points, bins=bins, histtype='step', density=True)"
   ]
  },
  {
   "cell_type": "code",
   "execution_count": 23,
   "id": "advance-petersburg",
   "metadata": {},
   "outputs": [
    {
     "data": {
      "text/plain": [
       "23409"
      ]
     },
     "execution_count": 23,
     "metadata": {},
     "output_type": "execute_result"
    }
   ],
   "source": [
    "sampled_points.size"
   ]
  },
  {
   "cell_type": "code",
   "execution_count": null,
   "id": "further-moses",
   "metadata": {},
   "outputs": [],
   "source": []
  }
 ],
 "metadata": {
  "kernelspec": {
   "display_name": "Python 3 (ipykernel)",
   "language": "python",
   "name": "python3"
  },
  "language_info": {
   "codemirror_mode": {
    "name": "ipython",
    "version": 3
   },
   "file_extension": ".py",
   "mimetype": "text/x-python",
   "name": "python",
   "nbconvert_exporter": "python",
   "pygments_lexer": "ipython3",
   "version": "3.10.1"
  }
 },
 "nbformat": 4,
 "nbformat_minor": 5
}
