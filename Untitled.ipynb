{
 "cells": [
  {
   "cell_type": "code",
   "execution_count": 11,
   "id": "d0743769-ca6d-4b23-a99c-75b2ee89b6dc",
   "metadata": {},
   "outputs": [],
   "source": [
    "from lxml import etree as ET\n",
    "from LHEImport import *\n",
    "import pandas as pd\n",
    "\n",
    "izip = zip"
   ]
  },
  {
   "cell_type": "code",
   "execution_count": 12,
   "id": "a7b3bcee-ade5-401f-8224-4afebd92e501",
   "metadata": {},
   "outputs": [],
   "source": [
    "filename = 'unweighted_events.lhe'"
   ]
  },
  {
   "cell_type": "code",
   "execution_count": 13,
   "id": "bc4ede1d-cd8c-46ae-a564-2386bfb0d2bc",
   "metadata": {},
   "outputs": [],
   "source": [
    "tree = ET.parse(filename)"
   ]
  },
  {
   "cell_type": "code",
   "execution_count": 14,
   "id": "d6615805-4ed3-4dc6-8411-7791f563a243",
   "metadata": {},
   "outputs": [],
   "source": [
    "root = tree.getroot()"
   ]
  },
  {
   "cell_type": "code",
   "execution_count": 15,
   "id": "87858a88-4701-47e4-9d60-f384cd133030",
   "metadata": {},
   "outputs": [],
   "source": [
    "tags = [r.tag for r in root]\n",
    "# tags"
   ]
  },
  {
   "cell_type": "code",
   "execution_count": 16,
   "id": "a5872ffc-5867-4cf5-a55a-d5f740f4e8fb",
   "metadata": {},
   "outputs": [
    {
     "data": {
      "text/plain": [
       "2"
      ]
     },
     "execution_count": 16,
     "metadata": {},
     "output_type": "execute_result"
    }
   ],
   "source": [
    "init_ind = tags.index('init')\n",
    "# index of init tag\n",
    "init_ind\n",
    "\n",
    "event_ind = tags.index('event')\n",
    "event_ind"
   ]
  },
  {
   "cell_type": "code",
   "execution_count": 17,
   "id": "4a9c4705-d751-4f6e-b396-ba39b3d369df",
   "metadata": {},
   "outputs": [],
   "source": [
    "event_num =2\n"
   ]
  },
  {
   "cell_type": "code",
   "execution_count": 26,
   "id": "1936e6e6-c411-490e-b02b-456a610e462a",
   "metadata": {},
   "outputs": [
    {
     "data": {
      "text/plain": [
       "{'num_particles': '4',\n",
       " 'proc_id': '1',\n",
       " 'weight': '+5.0580500e+02',\n",
       " 'scale': '2.04805500e+02',\n",
       " 'aQED': '7.54677100e-03',\n",
       " 'aQCD': '1.14574700e-01'}"
      ]
     },
     "execution_count": 26,
     "metadata": {},
     "output_type": "execute_result"
    }
   ],
   "source": [
    "data = parse_event_text(root[event_ind].text,event_num)[0]\n",
    "data\n"
   ]
  },
  {
   "cell_type": "code",
   "execution_count": 24,
   "id": "be3c46c5-e217-4f00-bbc8-4e4aa2dbaf39",
   "metadata": {},
   "outputs": [
    {
     "ename": "KeyError",
     "evalue": "0",
     "output_type": "error",
     "traceback": [
      "\u001b[0;31m---------------------------------------------------------------------------\u001b[0m",
      "\u001b[0;31mKeyError\u001b[0m                                  Traceback (most recent call last)",
      "\u001b[0;32m/tmp/ipykernel_17294/2780746151.py\u001b[0m in \u001b[0;36m<module>\u001b[0;34m\u001b[0m\n\u001b[1;32m      1\u001b[0m \u001b[0mList\u001b[0m \u001b[0;34m=\u001b[0m \u001b[0;34m[\u001b[0m\u001b[0;34m]\u001b[0m\u001b[0;34m\u001b[0m\u001b[0;34m\u001b[0m\u001b[0m\n\u001b[1;32m      2\u001b[0m \u001b[0;32mfor\u001b[0m \u001b[0mi\u001b[0m \u001b[0;32min\u001b[0m \u001b[0mrange\u001b[0m\u001b[0;34m(\u001b[0m\u001b[0;36m0\u001b[0m\u001b[0;34m,\u001b[0m\u001b[0mlen\u001b[0m\u001b[0;34m(\u001b[0m\u001b[0mdata\u001b[0m\u001b[0;34m)\u001b[0m\u001b[0;34m)\u001b[0m\u001b[0;34m:\u001b[0m\u001b[0;34m\u001b[0m\u001b[0;34m\u001b[0m\u001b[0m\n\u001b[0;32m----> 3\u001b[0;31m     \u001b[0mdata\u001b[0m\u001b[0;34m[\u001b[0m\u001b[0mi\u001b[0m\u001b[0;34m]\u001b[0m\u001b[0;34m.\u001b[0m\u001b[0mindex\u001b[0m\u001b[0;34m=\u001b[0m\u001b[0mi\u001b[0m\u001b[0;34m\u001b[0m\u001b[0;34m\u001b[0m\u001b[0m\n\u001b[0m\u001b[1;32m      4\u001b[0m     \u001b[0mList\u001b[0m\u001b[0;34m.\u001b[0m\u001b[0mappend\u001b[0m\u001b[0;34m(\u001b[0m\u001b[0mdata\u001b[0m\u001b[0;34m[\u001b[0m\u001b[0mi\u001b[0m\u001b[0;34m]\u001b[0m\u001b[0;34m.\u001b[0m\u001b[0m__dict__\u001b[0m\u001b[0;34m)\u001b[0m\u001b[0;34m\u001b[0m\u001b[0;34m\u001b[0m\u001b[0m\n\u001b[1;32m      5\u001b[0m \u001b[0mdf\u001b[0m \u001b[0;34m=\u001b[0m \u001b[0mpd\u001b[0m\u001b[0;34m.\u001b[0m\u001b[0mDataFrame\u001b[0m\u001b[0;34m(\u001b[0m\u001b[0mList\u001b[0m\u001b[0;34m)\u001b[0m\u001b[0;34m\u001b[0m\u001b[0;34m\u001b[0m\u001b[0m\n",
      "\u001b[0;31mKeyError\u001b[0m: 0"
     ]
    }
   ],
   "source": [
    "List = []\n",
    "for i in range(0,len(data)):\n",
    "    data[i].index=i\n",
    "    List.append(data[i].__dict__)\n",
    "df = pd.DataFrame(List)\n",
    "df.columns"
   ]
  },
  {
   "cell_type": "code",
   "execution_count": 21,
   "id": "8e465261-66df-434b-a896-e177b8254b76",
   "metadata": {},
   "outputs": [
    {
     "data": {
      "text/html": [
       "<div>\n",
       "<style scoped>\n",
       "    .dataframe tbody tr th:only-of-type {\n",
       "        vertical-align: middle;\n",
       "    }\n",
       "\n",
       "    .dataframe tbody tr th {\n",
       "        vertical-align: top;\n",
       "    }\n",
       "\n",
       "    .dataframe thead th {\n",
       "        text-align: right;\n",
       "    }\n",
       "</style>\n",
       "<table border=\"1\" class=\"dataframe\">\n",
       "  <thead>\n",
       "    <tr style=\"text-align: right;\">\n",
       "      <th></th>\n",
       "      <th>barcode</th>\n",
       "      <th>pdgid</th>\n",
       "      <th>name</th>\n",
       "      <th>status</th>\n",
       "      <th>final_state</th>\n",
       "      <th>initial_state</th>\n",
       "      <th>pt</th>\n",
       "      <th>eta</th>\n",
       "      <th>phi</th>\n",
       "      <th>px</th>\n",
       "      <th>py</th>\n",
       "      <th>pz</th>\n",
       "      <th>energy</th>\n",
       "      <th>mass</th>\n",
       "      <th>index</th>\n",
       "    </tr>\n",
       "  </thead>\n",
       "  <tbody>\n",
       "    <tr>\n",
       "      <th>0</th>\n",
       "      <td>1</td>\n",
       "      <td>1</td>\n",
       "      <td>1</td>\n",
       "      <td>-1</td>\n",
       "      <td>False</td>\n",
       "      <td>False</td>\n",
       "      <td>0.000000</td>\n",
       "      <td>inf</td>\n",
       "      <td>0.000000</td>\n",
       "      <td>0.000000</td>\n",
       "      <td>0.000000</td>\n",
       "      <td>87.492510</td>\n",
       "      <td>87.492510</td>\n",
       "      <td>0.0</td>\n",
       "      <td>0</td>\n",
       "    </tr>\n",
       "    <tr>\n",
       "      <th>1</th>\n",
       "      <td>2</td>\n",
       "      <td>2</td>\n",
       "      <td>2</td>\n",
       "      <td>-1</td>\n",
       "      <td>False</td>\n",
       "      <td>False</td>\n",
       "      <td>0.000000</td>\n",
       "      <td>-inf</td>\n",
       "      <td>0.000000</td>\n",
       "      <td>-0.000000</td>\n",
       "      <td>-0.000000</td>\n",
       "      <td>-502.387568</td>\n",
       "      <td>502.387568</td>\n",
       "      <td>0.0</td>\n",
       "      <td>1</td>\n",
       "    </tr>\n",
       "    <tr>\n",
       "      <th>2</th>\n",
       "      <td>3</td>\n",
       "      <td>3</td>\n",
       "      <td>3</td>\n",
       "      <td>1</td>\n",
       "      <td>False</td>\n",
       "      <td>False</td>\n",
       "      <td>109.618874</td>\n",
       "      <td>-1.088836</td>\n",
       "      <td>0.463568</td>\n",
       "      <td>98.049996</td>\n",
       "      <td>49.015261</td>\n",
       "      <td>-144.379269</td>\n",
       "      <td>250.580667</td>\n",
       "      <td>173.0</td>\n",
       "      <td>2</td>\n",
       "    </tr>\n",
       "    <tr>\n",
       "      <th>3</th>\n",
       "      <td>4</td>\n",
       "      <td>4</td>\n",
       "      <td>4</td>\n",
       "      <td>1</td>\n",
       "      <td>False</td>\n",
       "      <td>False</td>\n",
       "      <td>109.618874</td>\n",
       "      <td>-1.635200</td>\n",
       "      <td>-0.463568</td>\n",
       "      <td>-98.049996</td>\n",
       "      <td>-49.015261</td>\n",
       "      <td>-270.515790</td>\n",
       "      <td>339.299410</td>\n",
       "      <td>173.0</td>\n",
       "      <td>3</td>\n",
       "    </tr>\n",
       "  </tbody>\n",
       "</table>\n",
       "</div>"
      ],
      "text/plain": [
       "   barcode  pdgid  name  status  final_state  initial_state          pt  \\\n",
       "0        1      1     1      -1        False          False    0.000000   \n",
       "1        2      2     2      -1        False          False    0.000000   \n",
       "2        3      3     3       1        False          False  109.618874   \n",
       "3        4      4     4       1        False          False  109.618874   \n",
       "\n",
       "        eta       phi         px         py          pz      energy   mass  \\\n",
       "0       inf  0.000000   0.000000   0.000000   87.492510   87.492510    0.0   \n",
       "1      -inf  0.000000  -0.000000  -0.000000 -502.387568  502.387568    0.0   \n",
       "2 -1.088836  0.463568  98.049996  49.015261 -144.379269  250.580667  173.0   \n",
       "3 -1.635200 -0.463568 -98.049996 -49.015261 -270.515790  339.299410  173.0   \n",
       "\n",
       "   index  \n",
       "0      0  \n",
       "1      1  \n",
       "2      2  \n",
       "3      3  "
      ]
     },
     "execution_count": 21,
     "metadata": {},
     "output_type": "execute_result"
    }
   ],
   "source": [
    "df"
   ]
  },
  {
   "cell_type": "code",
   "execution_count": null,
   "id": "6938091c-df30-4a59-b97b-3fc4f670f44a",
   "metadata": {},
   "outputs": [],
   "source": []
  }
 ],
 "metadata": {
  "kernelspec": {
   "display_name": "Python 3 (ipykernel)",
   "language": "python",
   "name": "python3"
  },
  "language_info": {
   "codemirror_mode": {
    "name": "ipython",
    "version": 3
   },
   "file_extension": ".py",
   "mimetype": "text/x-python",
   "name": "python",
   "nbconvert_exporter": "python",
   "pygments_lexer": "ipython3",
   "version": "3.9.7"
  }
 },
 "nbformat": 4,
 "nbformat_minor": 5
}
